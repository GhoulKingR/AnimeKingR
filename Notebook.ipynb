{
 "cells": [
  {
   "cell_type": "code",
   "execution_count": 17,
   "id": "03f61225-3a41-47f1-a4d1-e58310a75327",
   "metadata": {},
   "outputs": [],
   "source": [
    "from selenium import webdriver\n",
    "from selenium.webdriver.common.by import By\n",
    "import time"
   ]
  },
  {
   "cell_type": "code",
   "execution_count": 18,
   "id": "15d17071-5c58-4184-a18f-e7a8c8987f6b",
   "metadata": {},
   "outputs": [],
   "source": [
    "driver = webdriver.Firefox()\n",
    "driver.get(\"https://animepahe.ru\")"
   ]
  },
  {
   "cell_type": "code",
   "execution_count": 19,
   "id": "e8f426f9-c5bc-4e62-958c-aa0032bde3a0",
   "metadata": {},
   "outputs": [],
   "source": [
    "input = driver.find_element(By.CLASS_NAME, \"input-search\")\n",
    "input.send_keys(\"Jujutsu kaisen\")"
   ]
  },
  {
   "cell_type": "code",
   "execution_count": 20,
   "id": "d7ff4f46-808c-494e-8205-1b6f9a326d4e",
   "metadata": {},
   "outputs": [
    {
     "name": "stdout",
     "output_type": "stream",
     "text": [
      "Couldn't find the results. Retrying in 5s: Message: Unable to locate element: .search-results; For documentation on this error, please visit: https://www.selenium.dev/documentation/webdriver/troubleshooting/errors#no-such-element-exception\n",
      "Stacktrace:\n",
      "RemoteError@chrome://remote/content/shared/RemoteError.sys.mjs:8:8\n",
      "WebDriverError@chrome://remote/content/shared/webdriver/Errors.sys.mjs:189:5\n",
      "NoSuchElementError@chrome://remote/content/shared/webdriver/Errors.sys.mjs:507:5\n",
      "dom.find/</<@chrome://remote/content/shared/DOM.sys.mjs:132:16\n",
      "\n",
      "Jujutsu Kaisen: Shimetsu Kaiyuu\n",
      "Jujutsu Kaisen\n",
      "Jujutsu Kaisen 2nd Season\n",
      "Jujutsu Kaisen 0 Movie\n",
      "Shenmue the Animation\n"
     ]
    }
   ],
   "source": [
    "# Get search results\n",
    "search_result_wrap = driver.find_element(By.CLASS_NAME, \"search-results-wrap\")\n",
    "\n",
    "while True:\n",
    "    try:\n",
    "        ul =  search_result_wrap.find_element(By.CLASS_NAME, \"search-results\")\n",
    "        li = ul.find_elements(By.TAG_NAME, \"li\")\n",
    "        for anime in li:\n",
    "            a = anime.find_element(By.TAG_NAME, \"a\")\n",
    "            result_title = a.find_element(By.CLASS_NAME, \"result-title\")\n",
    "            print (result_title.text.strip())\n",
    "        break\n",
    "    except Exception as e:\n",
    "        print (f\"Couldn't find the results. Retrying in 5s: {e}\")\n",
    "        time.sleep(5)"
   ]
  },
  {
   "cell_type": "code",
   "execution_count": 22,
   "id": "c4c786bc-cbdc-452a-a989-348c874cd530",
   "metadata": {},
   "outputs": [
    {
     "name": "stdout",
     "output_type": "stream",
     "text": [
      "{'total': 5, 'per_page': 8, 'current_page': 1, 'last_page': 1, 'from': 1, 'to': 5, 'data': [{'id': 5469, 'title': 'Jujutsu Kaisen: Shimetsu Kaiyuu', 'type': 'TV', 'episodes': 0, 'status': 'Not yet aired', 'season': '', 'year': 0, 'score': None, 'poster': 'https://i.animepahe.ru/posters/9ba9ec2afa3c3408433d5973b10fc03d058553670fb6f4ca621fee0700efee8c.jpg', 'session': '957389cf-eb4a-defd-fae4-6aa0ad5206c8'}, {'id': 4072, 'title': 'Jujutsu Kaisen', 'type': 'TV', 'episodes': 24, 'status': 'Finished Airing', 'season': 'Fall', 'year': 2020, 'score': 8.62, 'poster': 'https://i.animepahe.ru/posters/19a68cbfed82c21304983b220f7d2ca5d870dd14f50229a63c390f4376711250.jpg', 'session': 'd36ba0bd-240d-b0b0-e260-f31d74c18482'}, {'id': 5262, 'title': 'Jujutsu Kaisen 2nd Season', 'type': 'TV', 'episodes': 23, 'status': 'Finished Airing', 'season': 'Summer', 'year': 2023, 'score': 8.91, 'poster': 'https://i.animepahe.ru/posters/32fb7e8b4a3dfc4fc76d2d2c6ab21cbc5c45b138d5949d3b746f9003a4e71fd1.jpg', 'session': '74f4b77c-af3b-13ba-bbc2-64198fead8a8'}, {'id': 4917, 'title': 'Jujutsu Kaisen 0 Movie', 'type': 'Movie', 'episodes': 1, 'status': 'Finished Airing', 'season': 'Winter', 'year': 2022, 'score': 8.46, 'poster': 'https://i.animepahe.ru/posters/a6736aa122ad65fcc5d90d86894937abd98a39498fa9aa385236f38a8a2e3123.jpg', 'session': '540d6b53-1b06-03f2-27a5-8b775e7e5033'}, {'id': 4700, 'title': 'Shenmue the Animation', 'type': 'TV', 'episodes': 13, 'status': 'Finished Airing', 'season': 'Winter', 'year': 2022, 'score': 6.67, 'poster': 'https://i.animepahe.ru/posters/74be78b883bd8f5e9ef39e85abe323e4695dfb3e00b4cad82f5a29710650e137.jpg', 'session': '1bfdfaf5-4757-d454-e4a7-f3df53f3eb57'}]}\n"
     ]
    }
   ],
   "source": [
    "import requests\n",
    "\n",
    "response = requests.get(\"https://animepahe.ru/api?m=search&q=Jujutsu%20kaisen\")\n",
    "jsonres = None\n",
    "\n",
    "if response.status_code == 200:\n",
    "    # Print the response content (usually in JSON format for APIs)\n",
    "    jsonres = response.json()\n",
    "    print(jsonres)\n",
    "else:\n",
    "    # Print an error message if the request was not successful\n",
    "    print(f\"Error: {response.status_code} - {response.text}\")"
   ]
  },
  {
   "cell_type": "code",
   "execution_count": 29,
   "id": "2d66b557-fb1f-4e10-b2c0-72acb184d41d",
   "metadata": {},
   "outputs": [],
   "source": [
    "# getting the second search result\n",
    "driver = webdriver.Firefox()\n",
    "driver.get(f\"https://animepahe.ru/anime/{jsonres['data'][1]['session']}\")"
   ]
  },
  {
   "cell_type": "code",
   "execution_count": 30,
   "id": "5367268d-d2a3-4341-802e-4e49a23a5439",
   "metadata": {},
   "outputs": [
    {
     "name": "stdout",
     "output_type": "stream",
     "text": [
      "['https://animepahe.ru/play/d36ba0bd-240d-b0b0-e260-f31d74c18482/e63fd4fe65d6cc2dbbcf4e8c05e27cce945ebdce00a9c0510369babca964a0d2', 'https://animepahe.ru/play/d36ba0bd-240d-b0b0-e260-f31d74c18482/5e33b1b4d2fb945a70b3059a4578216799909a1920713694cceb5c40cf193c9d', 'https://animepahe.ru/play/d36ba0bd-240d-b0b0-e260-f31d74c18482/2789dcdf4b6035196b8fca4913f5fcf42ec96957a521145f2897dc6f1fd1f016', 'https://animepahe.ru/play/d36ba0bd-240d-b0b0-e260-f31d74c18482/581cba99092319e6caef324d4eeea70b5c9d3527d3f8ffa8cff51254b127ec3d', 'https://animepahe.ru/play/d36ba0bd-240d-b0b0-e260-f31d74c18482/016a98c1d4062b11602344805d69e8e5b6447850d934fe7704793f1c64eaed79', 'https://animepahe.ru/play/d36ba0bd-240d-b0b0-e260-f31d74c18482/0005553e48b50020e3b0bff95a2a6a34300ec6d214a6c958628bf19b0dd26df4', 'https://animepahe.ru/play/d36ba0bd-240d-b0b0-e260-f31d74c18482/8135293bf3ac3e66645e3459437f430a6e5521768adf20a699ff8567c5bb67b1', 'https://animepahe.ru/play/d36ba0bd-240d-b0b0-e260-f31d74c18482/81ba963158e7e95c61c19ae6868cba5c6c19726258e2f13d0b88e471384832c9', 'https://animepahe.ru/play/d36ba0bd-240d-b0b0-e260-f31d74c18482/89e7c3390a5ee4558c078b9550668fb76488f732af6b1bcf8ce5875be300efac', 'https://animepahe.ru/play/d36ba0bd-240d-b0b0-e260-f31d74c18482/fe689a3f29ab3ff530e702dd22a04a9ac2d31cc29d33a82463f2f126959a482e', 'https://animepahe.ru/play/d36ba0bd-240d-b0b0-e260-f31d74c18482/111579b25c87cd8d22ad8dcb8b038cd719b42588d77614e0f565a6b79e6232e4', 'https://animepahe.ru/play/d36ba0bd-240d-b0b0-e260-f31d74c18482/4ae579f4b86b688a32234b323275968e3cebb9d61d80785af8f126c68f00c1dd', 'https://animepahe.ru/play/d36ba0bd-240d-b0b0-e260-f31d74c18482/25b9abc740f5e21ad98c4439cdd11676d1a32b3cf99c19fce6bd6eaa88b446d4', 'https://animepahe.ru/play/d36ba0bd-240d-b0b0-e260-f31d74c18482/99cb6b0723adefa4d3175b521b683498e27b0cbe08b7b594f12d9f1ab422b908', 'https://animepahe.ru/play/d36ba0bd-240d-b0b0-e260-f31d74c18482/8ee0859012b9ffa156c236a7dcf26ed62d7b280ff2af0ccbc7591496cdca7c55', 'https://animepahe.ru/play/d36ba0bd-240d-b0b0-e260-f31d74c18482/6f1f9fd2be83988c4dc21156f5ba2439cf2c52aec5939ad5b0052cd619f60d8b', 'https://animepahe.ru/play/d36ba0bd-240d-b0b0-e260-f31d74c18482/3eca8891b387aebcc9758b3873a6a1f98b6c682370cbf6933fa3823064dcc875', 'https://animepahe.ru/play/d36ba0bd-240d-b0b0-e260-f31d74c18482/2d261e45a255fb1f5fa8fd4e262a53d5e6b2ceff23fe1616db89ef362162d51a', 'https://animepahe.ru/play/d36ba0bd-240d-b0b0-e260-f31d74c18482/fe190a5fe6ebe55d3165f82e904c6d32b1585407fc2c93ddaf396c2c2752c7c2', 'https://animepahe.ru/play/d36ba0bd-240d-b0b0-e260-f31d74c18482/45988f37a13fad063ab0f80b57c987870d6dbcc2629834e8f936c46af0e427bd', 'https://animepahe.ru/play/d36ba0bd-240d-b0b0-e260-f31d74c18482/f5874f58ae17b6459b024c47433b24fd3ef8cb9ef44a66277e1a25f51b73398c', 'https://animepahe.ru/play/d36ba0bd-240d-b0b0-e260-f31d74c18482/35619f63e6a4bfbedbd24b69c72f078a35e5aab7d657520ac3f6f3af86d769f1', 'https://animepahe.ru/play/d36ba0bd-240d-b0b0-e260-f31d74c18482/a57a5246abf556eca8e1c069761e3cc4e1cb8ca1e9f03dbfd682152058e23571', 'https://animepahe.ru/play/d36ba0bd-240d-b0b0-e260-f31d74c18482/bcc4b08e330a75121774628e91b2c470d4f63be4ad86e335ff15e91becbbd07d']\n"
     ]
    }
   ],
   "source": [
    "# getting the first episode\n",
    "As = driver.find_elements(By.CSS_SELECTOR, \".episode-list-wrapper .play\")\n",
    "links = []\n",
    "for a in As:\n",
    "    links.append(a.get_attribute(\"href\"))\n",
    "print(links)"
   ]
  },
  {
   "cell_type": "code",
   "execution_count": null,
   "id": "b572f91e-780f-4134-b418-117f029f5ccd",
   "metadata": {},
   "outputs": [],
   "source": []
  }
 ],
 "metadata": {
  "kernelspec": {
   "display_name": "Python 3 (ipykernel)",
   "language": "python",
   "name": "python3"
  },
  "language_info": {
   "codemirror_mode": {
    "name": "ipython",
    "version": 3
   },
   "file_extension": ".py",
   "mimetype": "text/x-python",
   "name": "python",
   "nbconvert_exporter": "python",
   "pygments_lexer": "ipython3",
   "version": "3.8.16"
  }
 },
 "nbformat": 4,
 "nbformat_minor": 5
}
