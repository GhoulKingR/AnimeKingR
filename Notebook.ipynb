{
 "cells": [
  {
   "cell_type": "code",
   "execution_count": 1,
   "id": "03f61225-3a41-47f1-a4d1-e58310a75327",
   "metadata": {},
   "outputs": [],
   "source": [
    "from selenium import webdriver\n",
    "from selenium.webdriver.common.by import By\n",
    "from selenium.webdriver.firefox.service import Service\n",
    "from tqdm import tqdm\n",
    "import time\n",
    "import math"
   ]
  },
  {
   "cell_type": "code",
   "execution_count": 2,
   "id": "15d17071-5c58-4184-a18f-e7a8c8987f6b",
   "metadata": {},
   "outputs": [],
   "source": [
    "service = Service(executable_path=\"./geckodriver\")\n",
    "driver = webdriver.Firefox(service=service)\n",
    "driver.get(\"https://animepahe.ru\")"
   ]
  },
  {
   "cell_type": "code",
   "execution_count": 3,
   "id": "e8f426f9-c5bc-4e62-958c-aa0032bde3a0",
   "metadata": {},
   "outputs": [],
   "source": [
    "# input = driver.find_element(By.CLASS_NAME, \"input-search\")\n",
    "# input.send_keys(\"One piece\")"
   ]
  },
  {
   "cell_type": "code",
   "execution_count": 4,
   "id": "d7ff4f46-808c-494e-8205-1b6f9a326d4e",
   "metadata": {},
   "outputs": [],
   "source": [
    "# Get search results\n",
    "# search_result_wrap = driver.find_element(By.CLASS_NAME, \"search-results-wrap\")\n",
    "\n",
    "# while True:\n",
    "#     try:\n",
    "#         ul =  search_result_wrap.find_element(By.CLASS_NAME, \"search-results\")\n",
    "#         li = ul.find_elements(By.TAG_NAME, \"li\")\n",
    "#         for anime in li:\n",
    "#             a = anime.find_element(By.TAG_NAME, \"a\")\n",
    "#             result_title = a.find_element(By.CLASS_NAME, \"result-title\")\n",
    "#             print (result_title.text.strip())\n",
    "#         break\n",
    "#     except Exception as e:\n",
    "#         print (f\"Couldn't find the results. Retrying in 5s: {e}\")\n",
    "#         time.sleep(5)"
   ]
  },
  {
   "cell_type": "code",
   "execution_count": 5,
   "id": "c4c786bc-cbdc-452a-a989-348c874cd530",
   "metadata": {},
   "outputs": [
    {
     "name": "stdout",
     "output_type": "stream",
     "text": [
      "{'total': 61, 'per_page': 8, 'current_page': 1, 'last_page': 8, 'from': 1, 'to': 8, 'data': [{'id': 4, 'title': 'One Piece', 'type': 'TV', 'episodes': 0, 'status': 'Currently Airing', 'season': 'Fall', 'year': 1999, 'score': 8.71, 'poster': 'https://i.animepahe.ru/posters/355e6e3127aa31f0d806114169b52c4fb6da4b87df7f9c1809b9e3de97b8aac5.jpg', 'session': '33f21cc7-9761-8d35-078f-cb8a0c2e2dfa'}, {'id': 3778, 'title': 'One Piece Movie 01', 'type': 'Movie', 'episodes': 1, 'status': 'Finished Airing', 'season': 'Spring', 'year': 2000, 'score': 7.09, 'poster': 'https://i.animepahe.ru/posters/239bba86be7f81f2f7bf011f997136f67cecfa0fcaaac4b0747cdadefb45e845.jpg', 'session': 'dff46028-d546-13e3-ea0c-073d849636f1'}, {'id': 3838, 'title': 'One Piece Film: Gold - Cine Mike Popcorn Kokuchi', 'type': '', 'episodes': 1, 'status': 'Finished Airing', 'season': 'Spring', 'year': 2016, 'score': 6.36, 'poster': 'https://i.animepahe.ru/posters/7eaa1bebf5c244a8a34e95c0d3eb45d3cc0801f55c8f0e194e8b9934e8e228a0.jpg', 'session': 'ba08cb80-cb5e-934b-0a58-091b9f9f49fa'}, {'id': 3779, 'title': 'One Piece Movie 02: Nejimaki-jima no Daibouken', 'type': 'Movie', 'episodes': 1, 'status': 'Finished Airing', 'season': 'Spring', 'year': 2001, 'score': 7.1, 'poster': 'https://i.animepahe.ru/posters/4ac2bb271f9b840be4fa8fcab13fad549626e9a18e30f7d291c1c99946b2855d.jpg', 'session': '72e5d752-91c8-3ab3-05f3-e1ae0d64784a'}, {'id': 3822, 'title': 'One Piece: Jango no Dance Carnival', 'type': 'Movie', 'episodes': 1, 'status': 'Finished Airing', 'season': 'Spring', 'year': 2001, 'score': 7.13, 'poster': 'https://i.animepahe.ru/posters/9931224a1c611dde4c77b0d8b99901b653c60e1d6800e73a1b308e8b504766ca.jpg', 'session': 'f6c71218-7708-b936-9f8d-3fddac5430e9'}, {'id': 3780, 'title': 'One Piece Movie 03: Chinjuu-jima no Chopper Oukoku', 'type': 'Movie', 'episodes': 1, 'status': 'Finished Airing', 'season': 'Spring', 'year': 2002, 'score': 6.86, 'poster': 'https://i.animepahe.ru/posters/cdbe9eaf3ca14b7a57b8797ace11e34d3e427a6873140453b136fb9131b71909.jpg', 'session': 'cb8dd701-2324-f943-c1fc-10b0a42a0657'}, {'id': 3823, 'title': 'One Piece: Yume no Soccer Ou!', 'type': 'Movie', 'episodes': 1, 'status': 'Finished Airing', 'season': 'Spring', 'year': 2002, 'score': 7.1, 'poster': 'https://i.animepahe.ru/posters/f381701596b98ada53423a0c5bfe1a486f87f2d376d396720d47617e5a21adcf.jpg', 'session': 'fc63e564-557a-411c-df9d-696a5b93a50b'}, {'id': 3781, 'title': 'One Piece Movie 04: Dead End no Bouken', 'type': 'Movie', 'episodes': 1, 'status': 'Finished Airing', 'season': 'Spring', 'year': 2003, 'score': 7.53, 'poster': 'https://i.animepahe.ru/posters/63e2a874fa8c9cb2e4fc1ff9ad4f4790e49207a8cbbaea35a76c85f6675b95ce.jpg', 'session': 'baa99c9f-3ce1-a6b8-9a8b-08ec14fbf67b'}]}\n"
     ]
    }
   ],
   "source": [
    "import requests\n",
    "\n",
    "response = requests.get(\"https://animepahe.ru/api?m=search&q=One piece\")\n",
    "jsonres = None\n",
    "\n",
    "if response.status_code == 200:\n",
    "    # Print the response content (usually in JSON format for APIs)\n",
    "    jsonres = response.json()\n",
    "    print(jsonres)\n",
    "else:\n",
    "    # Print an error message if the request was not successful\n",
    "    print(f\"Error: {response.status_code} - {response.text}\")"
   ]
  },
  {
   "cell_type": "code",
   "execution_count": 19,
   "id": "2d66b557-fb1f-4e10-b2c0-72acb184d41d",
   "metadata": {},
   "outputs": [
    {
     "data": {
      "text/plain": [
       "1"
      ]
     },
     "execution_count": 19,
     "metadata": {},
     "output_type": "execute_result"
    }
   ],
   "source": [
    "def get_episode_count(session):\n",
    "    driver.get(f\"https://animepahe.ru/anime/{session}\")\n",
    "    time.sleep(1)\n",
    "    episode_text = driver.find_element(By.CLASS_NAME, \"episode-count\").text.strip()\n",
    "    return int(episode_text.split(\" \")[1][1:-1])\n",
    "\n",
    "get_episode_count(jsonres['data'][3]['session'])"
   ]
  },
  {
   "cell_type": "code",
   "execution_count": 22,
   "id": "5367268d-d2a3-4341-802e-4e49a23a5439",
   "metadata": {},
   "outputs": [
    {
     "data": {
      "text/plain": [
       "'https://animepahe.ru/play/33f21cc7-9761-8d35-078f-cb8a0c2e2dfa/6d289398f46ba5fcf2f60aa6c8bb6014b6297b07a5d7197c8403e9fb49e69d55'"
      ]
     },
     "execution_count": 22,
     "metadata": {},
     "output_type": "execute_result"
    }
   ],
   "source": [
    "# getting the episodes\n",
    "def get_episode_link(episode, total):\n",
    "    for i in range(0, math.ceil(total/30)):\n",
    "        beginning = total - (i * 30)\n",
    "        end = total - ((i * 30) + 29)\n",
    "        if end <= episode and episode <= beginning:\n",
    "            driver.get(f\"https://animepahe.ru/anime/{jsonres['data'][0]['session']}?page={i+1}\")\n",
    "            time.sleep(1)\n",
    "            a = driver.find_elements(By.CSS_SELECTOR, \".episode-list-wrapper .play\")[beginning - episode]\n",
    "            return a.get_attribute(\"href\")\n",
    "        \n",
    "link = get_episode_link(500, 1088)\n",
    "link"
   ]
  },
  {
   "cell_type": "code",
   "execution_count": 24,
   "id": "b359fcc6-a8b0-463a-81f0-afdff72b57ed",
   "metadata": {},
   "outputs": [],
   "source": [
    "driver.get(link)"
   ]
  },
  {
   "cell_type": "code",
   "execution_count": 25,
   "id": "7ea9b395-9896-49ff-a740-405598e0c0a3",
   "metadata": {},
   "outputs": [
    {
     "data": {
      "text/plain": [
       "[{'name': '720p', 'link': 'https://pahe.win/FiTdn'},\n",
       " {'name': '1080p', 'link': 'https://pahe.win/KiMsh'}]"
      ]
     },
     "execution_count": 25,
     "metadata": {},
     "output_type": "execute_result"
    }
   ],
   "source": [
    "# Get quality lists\n",
    "qualities = []\n",
    "\n",
    "for a in driver.find_elements(By.CSS_SELECTOR, \"#pickDownload .dropdown-item\"):\n",
    "    quality = {\n",
    "        \"name\": a.get_attribute(\"innerHTML\").split(\" \")[2],\n",
    "        \"link\": a.get_attribute(\"href\")\n",
    "    }\n",
    "    qualities.append(quality)\n",
    "\n",
    "qualities"
   ]
  },
  {
   "cell_type": "code",
   "execution_count": 26,
   "id": "d4a408aa-63d8-498a-829d-c75ee40662cd",
   "metadata": {},
   "outputs": [
    {
     "data": {
      "text/plain": [
       "'https://pahe.win/FiTdn'"
      ]
     },
     "execution_count": 26,
     "metadata": {},
     "output_type": "execute_result"
    }
   ],
   "source": [
    "qualities[0]['link']"
   ]
  },
  {
   "cell_type": "code",
   "execution_count": 27,
   "id": "6d145efb-0440-4181-b7fa-edd3644f7763",
   "metadata": {},
   "outputs": [],
   "source": [
    "for quality in qualities:\n",
    "    try:\n",
    "        driver.get(qualities[0]['link'])\n",
    "        break\n",
    "    except:\n",
    "        print(quality['name'], \"failed trying another\")"
   ]
  },
  {
   "cell_type": "code",
   "execution_count": 28,
   "id": "824c2558-7fdc-474a-99d5-6ab86a1fb8ce",
   "metadata": {},
   "outputs": [
    {
     "data": {
      "text/plain": [
       "'https://kwik.cx/f/dmX63ZGIh59I'"
      ]
     },
     "execution_count": 28,
     "metadata": {},
     "output_type": "execute_result"
    }
   ],
   "source": [
    "# Get the continue button\n",
    "link_to_download = \"\"\n",
    "\n",
    "while True:\n",
    "    try:\n",
    "        a = driver.find_element(By.XPATH, \"//a[text()='Continue']\")\n",
    "        link_to_download = a.get_attribute(\"href\")\n",
    "        break\n",
    "    except:\n",
    "        print(\"Couldn't find button, waiting 7s\")\n",
    "        time.sleep(7)\n",
    " \n",
    "link_to_download"
   ]
  },
  {
   "cell_type": "code",
   "execution_count": 29,
   "id": "1ff9e86f-a39a-42e5-80dc-96c5deb5bc7b",
   "metadata": {},
   "outputs": [],
   "source": [
    "driver.get(link_to_download)"
   ]
  },
  {
   "cell_type": "code",
   "execution_count": 30,
   "id": "125dd523-df8b-46b2-9faa-ef62d7e94c6d",
   "metadata": {},
   "outputs": [
    {
     "name": "stdout",
     "output_type": "stream",
     "text": [
      "Link: https://kwik.cx/d/dmX63ZGIh59I\n",
      "Token: fA7hBUlb3t4deY4LcTIP7BKkcole4i8qmxHZH2LJ\n"
     ]
    }
   ],
   "source": [
    "# Find button and click it\n",
    "link = driver.find_element(By.CSS_SELECTOR, \".main .download form\").get_attribute(\"action\")\n",
    "token = driver.find_element(By.CSS_SELECTOR, \".main .download form input\").get_attribute(\"value\")\n",
    "print(\"Link:\", link)\n",
    "print(\"Token:\", token)\n"
   ]
  },
  {
   "cell_type": "code",
   "execution_count": 32,
   "id": "44005825-38e8-4a75-9326-38042d50d977",
   "metadata": {},
   "outputs": [
    {
     "data": {
      "text/plain": [
       "'kwik_session=eyJpdiI6Ikk3amNRam1VZ3A2MTNxbnRTdVdJaXc9PSIsInZhbHVlIjoiWWRHSmFHQUFvZE9mL09VZ2Z0TlBxUFoxNCtWYnRVOE50dUJMTEtTZVVsb2NpN2hVaGZ1TkJLZ3YrcHk1aW5GMHlwd1ZmaE1VVXNhekc1c0RsdWJrNnlLWDlDK0lYUUl6TU1GTTJjU05jM2lvd1BSU3Q5SGlWTEovNXdSZ3ExKzMiLCJtYWMiOiJiNzZmNzU2MmUyYjkxZjE2ZTk4NzlmNWJiZWI2OWQ3OWVjOGE3ODk1NzZhNmM3MWM3MGEzOTFmZTQ2MmM2ODk0IiwidGFnIjoiIn0%3D; srv=s0; ppu_show_on_4e5e04716f26fd21bf611637f4fb8a46=1; sb_page_e1010ee4b61613b1b253d71d1c531c2e=1; sb_main_e1010ee4b61613b1b253d71d1c531c2e=1; sb_count_e1010ee4b61613b1b253d71d1c531c2e=1; sb_onpage_e1010ee4b61613b1b253d71d1c531c2e=1; dom3ic8zudi28v8lr6fgphwffqoz0j6c=7e97d99d-2670-46a2-81a3-81597cf42f49%3A1%3A1; ppu_main_4e5e04716f26fd21bf611637f4fb8a46=1; ppu_exp_4e5e04716f26fd21bf611637f4fb8a46=1704568478913; pbpr0tpuw4isk85t8yg3jb2lj5vqf=bakeryflowerbed.com'"
      ]
     },
     "execution_count": 32,
     "metadata": {},
     "output_type": "execute_result"
    }
   ],
   "source": [
    "# cookies = {}\n",
    "# for cookie in driver.get_cookies():\n",
    "#     cookies[cookie['name']] = cookie['value']\n",
    "# cookies\n",
    "\n",
    "cookies = '; '.join([\n",
    "    f\"{cookie['name']}={cookie['value']}\"\n",
    "    for cookie in driver.get_cookies()\n",
    "])\n",
    "cookies"
   ]
  },
  {
   "cell_type": "code",
   "execution_count": 33,
   "id": "b08f1fea-c241-4045-90a6-04742bf2b310",
   "metadata": {},
   "outputs": [],
   "source": [
    "data = {\n",
    "    \"_token\": token\n",
    "}\n",
    "headers = {\n",
    "  'User-Agent': 'Mozilla/5.0 (Macintosh; Intel Mac OS X 10.15; rv:121.0) Gecko/20100101 Firefox/121.0',\n",
    "  'Referer': 'https://kwik.cx/f/r6gCLSqIe9Nh',\n",
    "  'Origin': 'https://kwik.cx',\n",
    "  'Host': 'kwik.cx',\n",
    "  'Cookie': cookies\n",
    "}"
   ]
  },
  {
   "cell_type": "code",
   "execution_count": 34,
   "id": "1fa207f5-0f2e-4d48-8d9d-973346d25390",
   "metadata": {},
   "outputs": [
    {
     "name": "stdout",
     "output_type": "stream",
     "text": [
      "AnimePahe_One_Piece_-_500_720p_HorribleSubs.mp4\n"
     ]
    },
    {
     "name": "stderr",
     "output_type": "stream",
     "text": [
      " 23%|████████▋                            | 21.6M/92.0M [00:07<00:30, 2.31MiB/s]"
     ]
    },
    {
     "ename": "KeyboardInterrupt",
     "evalue": "",
     "output_type": "error",
     "traceback": [
      "\u001b[0;31m---------------------------------------------------------------------------\u001b[0m",
      "\u001b[0;31mKeyboardInterrupt\u001b[0m                         Traceback (most recent call last)",
      "Cell \u001b[0;32mIn[34], line 16\u001b[0m\n\u001b[1;32m     13\u001b[0m progress_bar \u001b[38;5;241m=\u001b[39m tqdm(total\u001b[38;5;241m=\u001b[39mtotal_size, unit\u001b[38;5;241m=\u001b[39m\u001b[38;5;124m'\u001b[39m\u001b[38;5;124miB\u001b[39m\u001b[38;5;124m'\u001b[39m, unit_scale\u001b[38;5;241m=\u001b[39m\u001b[38;5;28;01mTrue\u001b[39;00m)\n\u001b[1;32m     15\u001b[0m \u001b[38;5;28;01mwith\u001b[39;00m \u001b[38;5;28mopen\u001b[39m(file_name, \u001b[38;5;124m'\u001b[39m\u001b[38;5;124mwb\u001b[39m\u001b[38;5;124m'\u001b[39m) \u001b[38;5;28;01mas\u001b[39;00m file:\n\u001b[0;32m---> 16\u001b[0m     \u001b[38;5;28;01mfor\u001b[39;00m data \u001b[38;5;129;01min\u001b[39;00m response\u001b[38;5;241m.\u001b[39miter_content(block_size):\n\u001b[1;32m     17\u001b[0m         progress_bar\u001b[38;5;241m.\u001b[39mupdate(\u001b[38;5;28mlen\u001b[39m(data))\n\u001b[1;32m     18\u001b[0m         file\u001b[38;5;241m.\u001b[39mwrite(data)\n",
      "File \u001b[0;32m~/miniforge3/envs/mlp/lib/python3.8/site-packages/requests/models.py:816\u001b[0m, in \u001b[0;36mResponse.iter_content.<locals>.generate\u001b[0;34m()\u001b[0m\n\u001b[1;32m    814\u001b[0m \u001b[38;5;28;01mif\u001b[39;00m \u001b[38;5;28mhasattr\u001b[39m(\u001b[38;5;28mself\u001b[39m\u001b[38;5;241m.\u001b[39mraw, \u001b[38;5;124m\"\u001b[39m\u001b[38;5;124mstream\u001b[39m\u001b[38;5;124m\"\u001b[39m):\n\u001b[1;32m    815\u001b[0m     \u001b[38;5;28;01mtry\u001b[39;00m:\n\u001b[0;32m--> 816\u001b[0m         \u001b[38;5;28;01myield from\u001b[39;00m \u001b[38;5;28mself\u001b[39m\u001b[38;5;241m.\u001b[39mraw\u001b[38;5;241m.\u001b[39mstream(chunk_size, decode_content\u001b[38;5;241m=\u001b[39m\u001b[38;5;28;01mTrue\u001b[39;00m)\n\u001b[1;32m    817\u001b[0m     \u001b[38;5;28;01mexcept\u001b[39;00m ProtocolError \u001b[38;5;28;01mas\u001b[39;00m e:\n\u001b[1;32m    818\u001b[0m         \u001b[38;5;28;01mraise\u001b[39;00m ChunkedEncodingError(e)\n",
      "File \u001b[0;32m~/miniforge3/envs/mlp/lib/python3.8/site-packages/urllib3/response.py:628\u001b[0m, in \u001b[0;36mHTTPResponse.stream\u001b[0;34m(self, amt, decode_content)\u001b[0m\n\u001b[1;32m    626\u001b[0m \u001b[38;5;28;01melse\u001b[39;00m:\n\u001b[1;32m    627\u001b[0m     \u001b[38;5;28;01mwhile\u001b[39;00m \u001b[38;5;129;01mnot\u001b[39;00m is_fp_closed(\u001b[38;5;28mself\u001b[39m\u001b[38;5;241m.\u001b[39m_fp):\n\u001b[0;32m--> 628\u001b[0m         data \u001b[38;5;241m=\u001b[39m \u001b[38;5;28;43mself\u001b[39;49m\u001b[38;5;241;43m.\u001b[39;49m\u001b[43mread\u001b[49m\u001b[43m(\u001b[49m\u001b[43mamt\u001b[49m\u001b[38;5;241;43m=\u001b[39;49m\u001b[43mamt\u001b[49m\u001b[43m,\u001b[49m\u001b[43m \u001b[49m\u001b[43mdecode_content\u001b[49m\u001b[38;5;241;43m=\u001b[39;49m\u001b[43mdecode_content\u001b[49m\u001b[43m)\u001b[49m\n\u001b[1;32m    630\u001b[0m         \u001b[38;5;28;01mif\u001b[39;00m data:\n\u001b[1;32m    631\u001b[0m             \u001b[38;5;28;01myield\u001b[39;00m data\n",
      "File \u001b[0;32m~/miniforge3/envs/mlp/lib/python3.8/site-packages/urllib3/response.py:567\u001b[0m, in \u001b[0;36mHTTPResponse.read\u001b[0;34m(self, amt, decode_content, cache_content)\u001b[0m\n\u001b[1;32m    564\u001b[0m fp_closed \u001b[38;5;241m=\u001b[39m \u001b[38;5;28mgetattr\u001b[39m(\u001b[38;5;28mself\u001b[39m\u001b[38;5;241m.\u001b[39m_fp, \u001b[38;5;124m\"\u001b[39m\u001b[38;5;124mclosed\u001b[39m\u001b[38;5;124m\"\u001b[39m, \u001b[38;5;28;01mFalse\u001b[39;00m)\n\u001b[1;32m    566\u001b[0m \u001b[38;5;28;01mwith\u001b[39;00m \u001b[38;5;28mself\u001b[39m\u001b[38;5;241m.\u001b[39m_error_catcher():\n\u001b[0;32m--> 567\u001b[0m     data \u001b[38;5;241m=\u001b[39m \u001b[38;5;28;43mself\u001b[39;49m\u001b[38;5;241;43m.\u001b[39;49m\u001b[43m_fp_read\u001b[49m\u001b[43m(\u001b[49m\u001b[43mamt\u001b[49m\u001b[43m)\u001b[49m \u001b[38;5;28;01mif\u001b[39;00m \u001b[38;5;129;01mnot\u001b[39;00m fp_closed \u001b[38;5;28;01melse\u001b[39;00m \u001b[38;5;124mb\u001b[39m\u001b[38;5;124m\"\u001b[39m\u001b[38;5;124m\"\u001b[39m\n\u001b[1;32m    568\u001b[0m     \u001b[38;5;28;01mif\u001b[39;00m amt \u001b[38;5;129;01mis\u001b[39;00m \u001b[38;5;28;01mNone\u001b[39;00m:\n\u001b[1;32m    569\u001b[0m         flush_decoder \u001b[38;5;241m=\u001b[39m \u001b[38;5;28;01mTrue\u001b[39;00m\n",
      "File \u001b[0;32m~/miniforge3/envs/mlp/lib/python3.8/site-packages/urllib3/response.py:533\u001b[0m, in \u001b[0;36mHTTPResponse._fp_read\u001b[0;34m(self, amt)\u001b[0m\n\u001b[1;32m    530\u001b[0m     \u001b[38;5;28;01mreturn\u001b[39;00m buffer\u001b[38;5;241m.\u001b[39mgetvalue()\n\u001b[1;32m    531\u001b[0m \u001b[38;5;28;01melse\u001b[39;00m:\n\u001b[1;32m    532\u001b[0m     \u001b[38;5;66;03m# StringIO doesn't like amt=None\u001b[39;00m\n\u001b[0;32m--> 533\u001b[0m     \u001b[38;5;28;01mreturn\u001b[39;00m \u001b[38;5;28;43mself\u001b[39;49m\u001b[38;5;241;43m.\u001b[39;49m\u001b[43m_fp\u001b[49m\u001b[38;5;241;43m.\u001b[39;49m\u001b[43mread\u001b[49m\u001b[43m(\u001b[49m\u001b[43mamt\u001b[49m\u001b[43m)\u001b[49m \u001b[38;5;28;01mif\u001b[39;00m amt \u001b[38;5;129;01mis\u001b[39;00m \u001b[38;5;129;01mnot\u001b[39;00m \u001b[38;5;28;01mNone\u001b[39;00m \u001b[38;5;28;01melse\u001b[39;00m \u001b[38;5;28mself\u001b[39m\u001b[38;5;241m.\u001b[39m_fp\u001b[38;5;241m.\u001b[39mread()\n",
      "File \u001b[0;32m~/miniforge3/envs/mlp/lib/python3.8/http/client.py:459\u001b[0m, in \u001b[0;36mHTTPResponse.read\u001b[0;34m(self, amt)\u001b[0m\n\u001b[1;32m    456\u001b[0m \u001b[38;5;28;01mif\u001b[39;00m amt \u001b[38;5;129;01mis\u001b[39;00m \u001b[38;5;129;01mnot\u001b[39;00m \u001b[38;5;28;01mNone\u001b[39;00m:\n\u001b[1;32m    457\u001b[0m     \u001b[38;5;66;03m# Amount is given, implement using readinto\u001b[39;00m\n\u001b[1;32m    458\u001b[0m     b \u001b[38;5;241m=\u001b[39m \u001b[38;5;28mbytearray\u001b[39m(amt)\n\u001b[0;32m--> 459\u001b[0m     n \u001b[38;5;241m=\u001b[39m \u001b[38;5;28;43mself\u001b[39;49m\u001b[38;5;241;43m.\u001b[39;49m\u001b[43mreadinto\u001b[49m\u001b[43m(\u001b[49m\u001b[43mb\u001b[49m\u001b[43m)\u001b[49m\n\u001b[1;32m    460\u001b[0m     \u001b[38;5;28;01mreturn\u001b[39;00m \u001b[38;5;28mmemoryview\u001b[39m(b)[:n]\u001b[38;5;241m.\u001b[39mtobytes()\n\u001b[1;32m    461\u001b[0m \u001b[38;5;28;01melse\u001b[39;00m:\n\u001b[1;32m    462\u001b[0m     \u001b[38;5;66;03m# Amount is not given (unbounded read) so we must check self.length\u001b[39;00m\n\u001b[1;32m    463\u001b[0m     \u001b[38;5;66;03m# and self.chunked\u001b[39;00m\n",
      "File \u001b[0;32m~/miniforge3/envs/mlp/lib/python3.8/http/client.py:503\u001b[0m, in \u001b[0;36mHTTPResponse.readinto\u001b[0;34m(self, b)\u001b[0m\n\u001b[1;32m    498\u001b[0m         b \u001b[38;5;241m=\u001b[39m \u001b[38;5;28mmemoryview\u001b[39m(b)[\u001b[38;5;241m0\u001b[39m:\u001b[38;5;28mself\u001b[39m\u001b[38;5;241m.\u001b[39mlength]\n\u001b[1;32m    500\u001b[0m \u001b[38;5;66;03m# we do not use _safe_read() here because this may be a .will_close\u001b[39;00m\n\u001b[1;32m    501\u001b[0m \u001b[38;5;66;03m# connection, and the user is reading more bytes than will be provided\u001b[39;00m\n\u001b[1;32m    502\u001b[0m \u001b[38;5;66;03m# (for example, reading in 1k chunks)\u001b[39;00m\n\u001b[0;32m--> 503\u001b[0m n \u001b[38;5;241m=\u001b[39m \u001b[38;5;28;43mself\u001b[39;49m\u001b[38;5;241;43m.\u001b[39;49m\u001b[43mfp\u001b[49m\u001b[38;5;241;43m.\u001b[39;49m\u001b[43mreadinto\u001b[49m\u001b[43m(\u001b[49m\u001b[43mb\u001b[49m\u001b[43m)\u001b[49m\n\u001b[1;32m    504\u001b[0m \u001b[38;5;28;01mif\u001b[39;00m \u001b[38;5;129;01mnot\u001b[39;00m n \u001b[38;5;129;01mand\u001b[39;00m b:\n\u001b[1;32m    505\u001b[0m     \u001b[38;5;66;03m# Ideally, we would raise IncompleteRead if the content-length\u001b[39;00m\n\u001b[1;32m    506\u001b[0m     \u001b[38;5;66;03m# wasn't satisfied, but it might break compatibility.\u001b[39;00m\n\u001b[1;32m    507\u001b[0m     \u001b[38;5;28mself\u001b[39m\u001b[38;5;241m.\u001b[39m_close_conn()\n",
      "File \u001b[0;32m~/miniforge3/envs/mlp/lib/python3.8/socket.py:669\u001b[0m, in \u001b[0;36mSocketIO.readinto\u001b[0;34m(self, b)\u001b[0m\n\u001b[1;32m    667\u001b[0m \u001b[38;5;28;01mwhile\u001b[39;00m \u001b[38;5;28;01mTrue\u001b[39;00m:\n\u001b[1;32m    668\u001b[0m     \u001b[38;5;28;01mtry\u001b[39;00m:\n\u001b[0;32m--> 669\u001b[0m         \u001b[38;5;28;01mreturn\u001b[39;00m \u001b[38;5;28;43mself\u001b[39;49m\u001b[38;5;241;43m.\u001b[39;49m\u001b[43m_sock\u001b[49m\u001b[38;5;241;43m.\u001b[39;49m\u001b[43mrecv_into\u001b[49m\u001b[43m(\u001b[49m\u001b[43mb\u001b[49m\u001b[43m)\u001b[49m\n\u001b[1;32m    670\u001b[0m     \u001b[38;5;28;01mexcept\u001b[39;00m timeout:\n\u001b[1;32m    671\u001b[0m         \u001b[38;5;28mself\u001b[39m\u001b[38;5;241m.\u001b[39m_timeout_occurred \u001b[38;5;241m=\u001b[39m \u001b[38;5;28;01mTrue\u001b[39;00m\n",
      "File \u001b[0;32m~/miniforge3/envs/mlp/lib/python3.8/ssl.py:1241\u001b[0m, in \u001b[0;36mSSLSocket.recv_into\u001b[0;34m(self, buffer, nbytes, flags)\u001b[0m\n\u001b[1;32m   1237\u001b[0m     \u001b[38;5;28;01mif\u001b[39;00m flags \u001b[38;5;241m!=\u001b[39m \u001b[38;5;241m0\u001b[39m:\n\u001b[1;32m   1238\u001b[0m         \u001b[38;5;28;01mraise\u001b[39;00m \u001b[38;5;167;01mValueError\u001b[39;00m(\n\u001b[1;32m   1239\u001b[0m           \u001b[38;5;124m\"\u001b[39m\u001b[38;5;124mnon-zero flags not allowed in calls to recv_into() on \u001b[39m\u001b[38;5;132;01m%s\u001b[39;00m\u001b[38;5;124m\"\u001b[39m \u001b[38;5;241m%\u001b[39m\n\u001b[1;32m   1240\u001b[0m           \u001b[38;5;28mself\u001b[39m\u001b[38;5;241m.\u001b[39m\u001b[38;5;18m__class__\u001b[39m)\n\u001b[0;32m-> 1241\u001b[0m     \u001b[38;5;28;01mreturn\u001b[39;00m \u001b[38;5;28;43mself\u001b[39;49m\u001b[38;5;241;43m.\u001b[39;49m\u001b[43mread\u001b[49m\u001b[43m(\u001b[49m\u001b[43mnbytes\u001b[49m\u001b[43m,\u001b[49m\u001b[43m \u001b[49m\u001b[43mbuffer\u001b[49m\u001b[43m)\u001b[49m\n\u001b[1;32m   1242\u001b[0m \u001b[38;5;28;01melse\u001b[39;00m:\n\u001b[1;32m   1243\u001b[0m     \u001b[38;5;28;01mreturn\u001b[39;00m \u001b[38;5;28msuper\u001b[39m()\u001b[38;5;241m.\u001b[39mrecv_into(buffer, nbytes, flags)\n",
      "File \u001b[0;32m~/miniforge3/envs/mlp/lib/python3.8/ssl.py:1099\u001b[0m, in \u001b[0;36mSSLSocket.read\u001b[0;34m(self, len, buffer)\u001b[0m\n\u001b[1;32m   1097\u001b[0m \u001b[38;5;28;01mtry\u001b[39;00m:\n\u001b[1;32m   1098\u001b[0m     \u001b[38;5;28;01mif\u001b[39;00m buffer \u001b[38;5;129;01mis\u001b[39;00m \u001b[38;5;129;01mnot\u001b[39;00m \u001b[38;5;28;01mNone\u001b[39;00m:\n\u001b[0;32m-> 1099\u001b[0m         \u001b[38;5;28;01mreturn\u001b[39;00m \u001b[38;5;28;43mself\u001b[39;49m\u001b[38;5;241;43m.\u001b[39;49m\u001b[43m_sslobj\u001b[49m\u001b[38;5;241;43m.\u001b[39;49m\u001b[43mread\u001b[49m\u001b[43m(\u001b[49m\u001b[38;5;28;43mlen\u001b[39;49m\u001b[43m,\u001b[49m\u001b[43m \u001b[49m\u001b[43mbuffer\u001b[49m\u001b[43m)\u001b[49m\n\u001b[1;32m   1100\u001b[0m     \u001b[38;5;28;01melse\u001b[39;00m:\n\u001b[1;32m   1101\u001b[0m         \u001b[38;5;28;01mreturn\u001b[39;00m \u001b[38;5;28mself\u001b[39m\u001b[38;5;241m.\u001b[39m_sslobj\u001b[38;5;241m.\u001b[39mread(\u001b[38;5;28mlen\u001b[39m)\n",
      "\u001b[0;31mKeyboardInterrupt\u001b[0m: "
     ]
    },
    {
     "name": "stderr",
     "output_type": "stream",
     "text": [
      " 24%|████████▊                            | 22.0M/92.0M [00:20<00:30, 2.31MiB/s]"
     ]
    }
   ],
   "source": [
    "\n",
    "data = {\n",
    "    \"_token\": token\n",
    "}\n",
    "response = requests.post(link, data=data, headers=headers, stream=True)\n",
    "file_name = response.headers.get('Content-Disposition').split('=')[1]\n",
    "print(file_name)\n",
    "\n",
    "response.raise_for_status()\n",
    "\n",
    "total_size = int(response.headers.get('content-length', 0))\n",
    "block_size = 1024  # 1 Kibibyte\n",
    "\n",
    "progress_bar = tqdm(total=total_size, unit='iB', unit_scale=True)\n",
    "\n",
    "with open(file_name, 'wb') as file:\n",
    "    for data in response.iter_content(block_size):\n",
    "        progress_bar.update(len(data))\n",
    "        file.write(data)\n",
    "\n",
    "progress_bar.close()"
   ]
  },
  {
   "cell_type": "code",
   "execution_count": null,
   "id": "86409a06-6605-44b1-9d93-18d9f3f6ea53",
   "metadata": {},
   "outputs": [],
   "source": []
  }
 ],
 "metadata": {
  "kernelspec": {
   "display_name": "Python 3 (ipykernel)",
   "language": "python",
   "name": "python3"
  },
  "language_info": {
   "codemirror_mode": {
    "name": "ipython",
    "version": 3
   },
   "file_extension": ".py",
   "mimetype": "text/x-python",
   "name": "python",
   "nbconvert_exporter": "python",
   "pygments_lexer": "ipython3",
   "version": "3.8.16"
  }
 },
 "nbformat": 4,
 "nbformat_minor": 5
}
