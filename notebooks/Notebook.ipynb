{
 "cells": [
  {
   "cell_type": "code",
   "execution_count": 60,
   "id": "03f61225-3a41-47f1-a4d1-e58310a75327",
   "metadata": {},
   "outputs": [],
   "source": [
    "from selenium import webdriver\n",
    "from selenium_stealth import stealth\n",
    "from selenium.webdriver.common.by import By\n",
    "from tqdm import tqdm\n",
    "import time\n",
    "import math"
   ]
  },
  {
   "cell_type": "code",
   "execution_count": 56,
   "id": "15d17071-5c58-4184-a18f-e7a8c8987f6b",
   "metadata": {},
   "outputs": [],
   "source": [
    "options = webdriver.ChromeOptions()\n",
    "options.add_argument(\"start-maximized\")\n",
    "options.add_argument(\"--headless\")\n",
    "options.add_experimental_option(\"excludeSwitches\", [\"enable-automation\"])\n",
    "options.add_experimental_option('useAutomationExtension', False)\n",
    "\n",
    "driver = webdriver.Chrome()"
   ]
  },
  {
   "cell_type": "code",
   "execution_count": 61,
   "id": "b70f0fb3-fe70-49a9-b3eb-22c0fb454aea",
   "metadata": {},
   "outputs": [],
   "source": [
    "stealth(driver,\n",
    "    languages=[\"en-US\", \"en\"],\n",
    "    vendor=\"Google Inc.\",\n",
    "    platform=\"Win32\",\n",
    "    webgl_vendor=\"Intel Inc.\",\n",
    "    renderer=\"Intel Iris OpenGL Engine\",\n",
    "    fix_hairline=True,\n",
    ")"
   ]
  },
  {
   "cell_type": "code",
   "execution_count": 62,
   "id": "e8f426f9-c5bc-4e62-958c-aa0032bde3a0",
   "metadata": {},
   "outputs": [],
   "source": [
    "driver.get(\"https://animepahe.ru\")\n",
    "\n",
    "# input = driver.find_element(By.CLASS_NAME, \"input-search\")\n",
    "# input.send_keys(\"One piece\")"
   ]
  },
  {
   "cell_type": "code",
   "execution_count": 63,
   "id": "d7ff4f46-808c-494e-8205-1b6f9a326d4e",
   "metadata": {},
   "outputs": [],
   "source": [
    "# Get search results\n",
    "# search_result_wrap = driver.find_element(By.CLASS_NAME, \"search-results-wrap\")\n",
    "\n",
    "# while True:\n",
    "#     try:\n",
    "#         ul =  search_result_wrap.find_element(By.CLASS_NAME, \"search-results\")\n",
    "#         li = ul.find_elements(By.TAG_NAME, \"li\")\n",
    "#         for anime in li:\n",
    "#             a = anime.find_element(By.TAG_NAME, \"a\")\n",
    "#             result_title = a.find_element(By.CLASS_NAME, \"result-title\")\n",
    "#             print (result_title.text.strip())\n",
    "#         break\n",
    "#     except Exception as e:\n",
    "#         print (f\"Couldn't find the results. Retrying in 5s: {e}\")\n",
    "#         time.sleep(5)"
   ]
  },
  {
   "cell_type": "code",
   "execution_count": 64,
   "id": "c4c786bc-cbdc-452a-a989-348c874cd530",
   "metadata": {},
   "outputs": [
    {
     "name": "stdout",
     "output_type": "stream",
     "text": [
      "{'total': 61, 'per_page': 8, 'current_page': 1, 'last_page': 8, 'from': 1, 'to': 8, 'data': [{'id': 4, 'title': 'One Piece', 'type': 'TV', 'episodes': 0, 'status': 'Currently Airing', 'season': 'Fall', 'year': 1999, 'score': 8.71, 'poster': 'https://i.animepahe.ru/posters/355e6e3127aa31f0d806114169b52c4fb6da4b87df7f9c1809b9e3de97b8aac5.jpg', 'session': '1f0c2e22-a432-cda9-7ac8-e6cbc7852a93'}, {'id': 3778, 'title': 'One Piece Movie 01', 'type': 'Movie', 'episodes': 1, 'status': 'Finished Airing', 'season': 'Spring', 'year': 2000, 'score': 7.09, 'poster': 'https://i.animepahe.ru/posters/239bba86be7f81f2f7bf011f997136f67cecfa0fcaaac4b0747cdadefb45e845.jpg', 'session': 'dcdc6e99-efcc-8a0a-505f-5d93ce7c0ace'}, {'id': 3838, 'title': 'One Piece Film: Gold - Cine Mike Popcorn Kokuchi', 'type': '', 'episodes': 1, 'status': 'Finished Airing', 'season': 'Spring', 'year': 2016, 'score': 6.36, 'poster': 'https://i.animepahe.ru/posters/7eaa1bebf5c244a8a34e95c0d3eb45d3cc0801f55c8f0e194e8b9934e8e228a0.jpg', 'session': '20e3c19c-a747-6228-4cab-abfbcfc952ba'}, {'id': 3779, 'title': 'One Piece Movie 02: Nejimaki-jima no Daibouken', 'type': 'Movie', 'episodes': 1, 'status': 'Finished Airing', 'season': 'Spring', 'year': 2001, 'score': 7.1, 'poster': 'https://i.animepahe.ru/posters/4ac2bb271f9b840be4fa8fcab13fad549626e9a18e30f7d291c1c99946b2855d.jpg', 'session': '70f72f8c-9272-5971-1afc-0cd5a57dbb81'}, {'id': 3822, 'title': 'One Piece: Jango no Dance Carnival', 'type': 'Movie', 'episodes': 1, 'status': 'Finished Airing', 'season': 'Spring', 'year': 2001, 'score': 7.13, 'poster': 'https://i.animepahe.ru/posters/9931224a1c611dde4c77b0d8b99901b653c60e1d6800e73a1b308e8b504766ca.jpg', 'session': 'bb91f440-3ef3-baa5-cffa-9a51fb956899'}, {'id': 3780, 'title': 'One Piece Movie 03: Chinjuu-jima no Chopper Oukoku', 'type': 'Movie', 'episodes': 1, 'status': 'Finished Airing', 'season': 'Spring', 'year': 2002, 'score': 6.86, 'poster': 'https://i.animepahe.ru/posters/cdbe9eaf3ca14b7a57b8797ace11e34d3e427a6873140453b136fb9131b71909.jpg', 'session': '1550b4a8-bb1f-6ec3-e4d5-abd80008439c'}, {'id': 3823, 'title': 'One Piece: Yume no Soccer Ou!', 'type': 'Movie', 'episodes': 1, 'status': 'Finished Airing', 'season': 'Spring', 'year': 2002, 'score': 7.1, 'poster': 'https://i.animepahe.ru/posters/f381701596b98ada53423a0c5bfe1a486f87f2d376d396720d47617e5a21adcf.jpg', 'session': 'c11b5df8-b801-9d7c-6541-8c603ede2196'}, {'id': 3781, 'title': 'One Piece Movie 04: Dead End no Bouken', 'type': 'Movie', 'episodes': 1, 'status': 'Finished Airing', 'season': 'Spring', 'year': 2003, 'score': 7.53, 'poster': 'https://i.animepahe.ru/posters/63e2a874fa8c9cb2e4fc1ff9ad4f4790e49207a8cbbaea35a76c85f6675b95ce.jpg', 'session': '54d3a816-f317-a333-b6a7-2b007110b911'}]}\n"
     ]
    }
   ],
   "source": [
    "import requests\n",
    "\n",
    "response = requests.get(\"https://animepahe.ru/api?m=search&q=One piece\")\n",
    "jsonres = None\n",
    "\n",
    "if response.status_code == 200:\n",
    "    # Print the response content (usually in JSON format for APIs)\n",
    "    jsonres = response.json()\n",
    "    print(jsonres)\n",
    "else:\n",
    "    # Print an error message if the request was not successful\n",
    "    print(f\"Error: {response.status_code} - {response.text}\")"
   ]
  },
  {
   "cell_type": "code",
   "execution_count": 65,
   "id": "a22ecd7a-aff7-4aeb-b446-69691a18a2ed",
   "metadata": {},
   "outputs": [],
   "source": [
    "driver.get(f\"https://animepahe.ru/anime/{jsonres['data'][0]['session']}\")"
   ]
  },
  {
   "cell_type": "code",
   "execution_count": 66,
   "id": "2d66b557-fb1f-4e10-b2c0-72acb184d41d",
   "metadata": {},
   "outputs": [
    {
     "data": {
      "text/plain": [
       "{'total': 1089,\n",
       " 'per_page': 30,\n",
       " 'current_page': 1,\n",
       " 'last_page': 37,\n",
       " 'next_page_url': 'https://animepahe.ru/api?page=2',\n",
       " 'prev_page_url': None,\n",
       " 'from': 1,\n",
       " 'to': 30,\n",
       " 'data': [{'id': 36600,\n",
       "   'anime_id': 4,\n",
       "   'episode': 1,\n",
       "   'episode2': 0,\n",
       "   'edition': '',\n",
       "   'title': '',\n",
       "   'snapshot': 'https://i.animepahe.ru/snapshots/c311c5b993085c3e9de8e44387a0cb48b69fe2c3ba4fcf77d52f1ab4f890c12a.jpg',\n",
       "   'disc': '',\n",
       "   'audio': 'jpn',\n",
       "   'duration': '00:25:00',\n",
       "   'session': '7dcd6ed708bd2cf222a21ec3be167142043692ee3c05a6bdd4a89a4cfeaebdf5',\n",
       "   'filler': 0,\n",
       "   'created_at': '2019-12-12 09:53:44'},\n",
       "  {'id': 36601,\n",
       "   'anime_id': 4,\n",
       "   'episode': 2,\n",
       "   'episode2': 0,\n",
       "   'edition': '',\n",
       "   'title': '',\n",
       "   'snapshot': 'https://i.animepahe.ru/snapshots/ba684b711d8d1382d9934b69fac36dd8a55bcd1d81cd04ea668f1173fc503761.jpg',\n",
       "   'disc': '',\n",
       "   'audio': 'jpn',\n",
       "   'duration': '00:25:00',\n",
       "   'session': '538a18d996aa035b044cfd23ce6517d0ef226f3d1ef8eea2678a9a32c62bb6ff',\n",
       "   'filler': 0,\n",
       "   'created_at': '2019-12-12 09:53:52'},\n",
       "  {'id': 36602,\n",
       "   'anime_id': 4,\n",
       "   'episode': 3,\n",
       "   'episode2': 0,\n",
       "   'edition': '',\n",
       "   'title': '',\n",
       "   'snapshot': 'https://i.animepahe.ru/snapshots/ffe2c9c27d84dcec591ab2f4e52b056a1adb648432faf560ec2a5152c929eafa.jpg',\n",
       "   'disc': '',\n",
       "   'audio': 'jpn',\n",
       "   'duration': '00:25:00',\n",
       "   'session': 'ebefc0ea4bb68faa2906c1ec045019be8f134cdbb212f75c128858eed101681c',\n",
       "   'filler': 0,\n",
       "   'created_at': '2019-12-12 09:54:00'},\n",
       "  {'id': 36603,\n",
       "   'anime_id': 4,\n",
       "   'episode': 4,\n",
       "   'episode2': 0,\n",
       "   'edition': '',\n",
       "   'title': '',\n",
       "   'snapshot': 'https://i.animepahe.ru/snapshots/55249c88ff9f65a391a9c6b62398d2068bbea80f39d2b4641a1cf3379ab7ba64.jpg',\n",
       "   'disc': '',\n",
       "   'audio': 'jpn',\n",
       "   'duration': '00:25:00',\n",
       "   'session': '0953e0ab93986671f37e49f1146763b14dc4b687eaea2aa93ace282e6b63f09d',\n",
       "   'filler': 0,\n",
       "   'created_at': '2019-12-12 09:54:08'},\n",
       "  {'id': 36604,\n",
       "   'anime_id': 4,\n",
       "   'episode': 5,\n",
       "   'episode2': 0,\n",
       "   'edition': '',\n",
       "   'title': '',\n",
       "   'snapshot': 'https://i.animepahe.ru/snapshots/ce402cb39d965439ad7354a128c147e74d7e2bb83c67f4bbd44184ce138a6555.jpg',\n",
       "   'disc': '',\n",
       "   'audio': 'jpn',\n",
       "   'duration': '00:25:00',\n",
       "   'session': '2ca8063d2f4cfb241415a71d2051e27d7c98998f5d62035fdd0776390a5369be',\n",
       "   'filler': 0,\n",
       "   'created_at': '2019-12-12 09:54:16'},\n",
       "  {'id': 36605,\n",
       "   'anime_id': 4,\n",
       "   'episode': 6,\n",
       "   'episode2': 0,\n",
       "   'edition': '',\n",
       "   'title': '',\n",
       "   'snapshot': 'https://i.animepahe.ru/snapshots/f38da8ba619cd5832a822c69671d94a3d48913466c9c4ace6ba1e7939941ba94.jpg',\n",
       "   'disc': '',\n",
       "   'audio': 'jpn',\n",
       "   'duration': '00:25:00',\n",
       "   'session': 'd399cb53be47c9d835bd2b686970a000f47a6e4a6e61a351fab1ac6fa347f952',\n",
       "   'filler': 0,\n",
       "   'created_at': '2019-12-12 09:54:24'},\n",
       "  {'id': 36606,\n",
       "   'anime_id': 4,\n",
       "   'episode': 7,\n",
       "   'episode2': 0,\n",
       "   'edition': '',\n",
       "   'title': '',\n",
       "   'snapshot': 'https://i.animepahe.ru/snapshots/8bc1501e78b43104a17b2abddfecb6c23bcd9c4197dc6857dae08288a04d12aa.jpg',\n",
       "   'disc': '',\n",
       "   'audio': 'jpn',\n",
       "   'duration': '00:25:00',\n",
       "   'session': 'a6727d97ae3aa8da4446508bac7b22e694b53c15c98b049dc3c6302948739525',\n",
       "   'filler': 0,\n",
       "   'created_at': '2019-12-12 09:54:40'},\n",
       "  {'id': 36607,\n",
       "   'anime_id': 4,\n",
       "   'episode': 8,\n",
       "   'episode2': 0,\n",
       "   'edition': '',\n",
       "   'title': '',\n",
       "   'snapshot': 'https://i.animepahe.ru/snapshots/533b3137a47d79042064f7821e16ddfb06a0b8ed9d18b7d5030bf9c0a359e33f.jpg',\n",
       "   'disc': '',\n",
       "   'audio': 'jpn',\n",
       "   'duration': '00:25:00',\n",
       "   'session': '603ff2b111dfbc201dc1eb30ead455c881f426ade8988670c85e4801e8e7315c',\n",
       "   'filler': 0,\n",
       "   'created_at': '2019-12-12 09:54:47'},\n",
       "  {'id': 36608,\n",
       "   'anime_id': 4,\n",
       "   'episode': 9,\n",
       "   'episode2': 0,\n",
       "   'edition': '',\n",
       "   'title': '',\n",
       "   'snapshot': 'https://i.animepahe.ru/snapshots/b7122ddeb7656b822e713440ea9f05295e4ad8e9fd98900be0eec51843d179cd.jpg',\n",
       "   'disc': '',\n",
       "   'audio': 'jpn',\n",
       "   'duration': '00:25:00',\n",
       "   'session': 'e1b06facc2ef319424e38d095c2a16f84e532429db7716b0bdb2fa0be59d56da',\n",
       "   'filler': 0,\n",
       "   'created_at': '2019-12-12 09:54:55'},\n",
       "  {'id': 36609,\n",
       "   'anime_id': 4,\n",
       "   'episode': 10,\n",
       "   'episode2': 0,\n",
       "   'edition': '',\n",
       "   'title': '',\n",
       "   'snapshot': 'https://i.animepahe.ru/snapshots/4b9c76601b4758c43b69732041b55bf1895937330c2da94234af82f24d5f954f.jpg',\n",
       "   'disc': '',\n",
       "   'audio': 'jpn',\n",
       "   'duration': '00:25:00',\n",
       "   'session': '5cdb4a99e08c61c19f047e87ba82ccdc826f69fef23e2c7a728e874ffa5bc188',\n",
       "   'filler': 0,\n",
       "   'created_at': '2019-12-12 09:55:03'},\n",
       "  {'id': 36610,\n",
       "   'anime_id': 4,\n",
       "   'episode': 11,\n",
       "   'episode2': 0,\n",
       "   'edition': '',\n",
       "   'title': '',\n",
       "   'snapshot': 'https://i.animepahe.ru/snapshots/e8083159987436ad3f3410fd0869b752f1bc8d02c2b8924e49013e3d34470bc4.jpg',\n",
       "   'disc': '',\n",
       "   'audio': 'jpn',\n",
       "   'duration': '00:25:00',\n",
       "   'session': 'a6dec29e2cf0ee1f08dacb00facdf6976fe59a2c838dd4e5eb2d59e8ddf3ec45',\n",
       "   'filler': 0,\n",
       "   'created_at': '2019-12-12 09:55:11'},\n",
       "  {'id': 36611,\n",
       "   'anime_id': 4,\n",
       "   'episode': 12,\n",
       "   'episode2': 0,\n",
       "   'edition': '',\n",
       "   'title': '',\n",
       "   'snapshot': 'https://i.animepahe.ru/snapshots/bd03223f6280de04aceb3c758df7e7fefc7058a85c20919304b3da862277db26.jpg',\n",
       "   'disc': '',\n",
       "   'audio': 'jpn',\n",
       "   'duration': '00:25:00',\n",
       "   'session': 'd890a5f979c9bf710412bd75c83e7107e9eae5123e3e543d2f5536ad1d70b28e',\n",
       "   'filler': 0,\n",
       "   'created_at': '2019-12-12 09:55:19'},\n",
       "  {'id': 36612,\n",
       "   'anime_id': 4,\n",
       "   'episode': 13,\n",
       "   'episode2': 0,\n",
       "   'edition': '',\n",
       "   'title': '',\n",
       "   'snapshot': 'https://i.animepahe.ru/snapshots/4165c1fd381c0fe5ff528b4cfc5671419763495b10ad7a49ce90ab1a2a699238.jpg',\n",
       "   'disc': '',\n",
       "   'audio': 'jpn',\n",
       "   'duration': '00:25:00',\n",
       "   'session': '26b947fcd3ebc0d82f46c4f7b3bc2c0b39df8bcc5d20e3a50f072f20ac97c925',\n",
       "   'filler': 0,\n",
       "   'created_at': '2019-12-12 09:55:27'},\n",
       "  {'id': 36613,\n",
       "   'anime_id': 4,\n",
       "   'episode': 14,\n",
       "   'episode2': 0,\n",
       "   'edition': '',\n",
       "   'title': '',\n",
       "   'snapshot': 'https://i.animepahe.ru/snapshots/82ee93470a4c2040ea3d9ee3a817e2d308949d079bdd495545a19a2e18982ee9.jpg',\n",
       "   'disc': '',\n",
       "   'audio': 'jpn',\n",
       "   'duration': '00:25:00',\n",
       "   'session': '8b62a6cb8c220d1b4521c8850dba1b6d8771a7215bc5c82fb2bf6b3edbf0c0bc',\n",
       "   'filler': 0,\n",
       "   'created_at': '2019-12-12 09:55:35'},\n",
       "  {'id': 36614,\n",
       "   'anime_id': 4,\n",
       "   'episode': 15,\n",
       "   'episode2': 0,\n",
       "   'edition': '',\n",
       "   'title': '',\n",
       "   'snapshot': 'https://i.animepahe.ru/snapshots/d7103b6384170dbf0617fd88c3171eb3eaf7f86b7667f3339bbda4e5be9dc55f.jpg',\n",
       "   'disc': '',\n",
       "   'audio': 'jpn',\n",
       "   'duration': '00:25:00',\n",
       "   'session': 'a4e3d3972df36a6ea3838c5a422df467d5837278f75bda6ee21e471c1c118ab8',\n",
       "   'filler': 0,\n",
       "   'created_at': '2019-12-12 09:55:44'},\n",
       "  {'id': 36615,\n",
       "   'anime_id': 4,\n",
       "   'episode': 16,\n",
       "   'episode2': 0,\n",
       "   'edition': '',\n",
       "   'title': '',\n",
       "   'snapshot': 'https://i.animepahe.ru/snapshots/e636174a24ff14907838302a7a5ff5535131515b8b2c7a70ce2429507517f2f5.jpg',\n",
       "   'disc': '',\n",
       "   'audio': 'jpn',\n",
       "   'duration': '00:25:00',\n",
       "   'session': 'a932f642005c8135a5bdc17ff7b462f357c1d9e66fa1f95698e3693cd2be8d3b',\n",
       "   'filler': 0,\n",
       "   'created_at': '2019-12-12 09:55:52'},\n",
       "  {'id': 36616,\n",
       "   'anime_id': 4,\n",
       "   'episode': 17,\n",
       "   'episode2': 0,\n",
       "   'edition': '',\n",
       "   'title': '',\n",
       "   'snapshot': 'https://i.animepahe.ru/snapshots/a8d5128234417058af0de8bb9c5a65cfa850a3def909e27f1492a498c2601b9b.jpg',\n",
       "   'disc': '',\n",
       "   'audio': 'jpn',\n",
       "   'duration': '00:25:00',\n",
       "   'session': '06b64cb81d55d35861128be4af6f73fb531ce7508e88f4bbbb7d8b8057f5fcf2',\n",
       "   'filler': 0,\n",
       "   'created_at': '2019-12-12 09:56:00'},\n",
       "  {'id': 36617,\n",
       "   'anime_id': 4,\n",
       "   'episode': 18,\n",
       "   'episode2': 0,\n",
       "   'edition': '',\n",
       "   'title': '',\n",
       "   'snapshot': 'https://i.animepahe.ru/snapshots/f88ac5ea549bc977364b9fb6aedfc83cc32089edad93d8caad87280c6472f9aa.jpg',\n",
       "   'disc': '',\n",
       "   'audio': 'jpn',\n",
       "   'duration': '00:25:00',\n",
       "   'session': 'e49dd24a590f006d68cdbe0cc23f110ed7c4cfa5cf9e116b389f9674b87ece29',\n",
       "   'filler': 0,\n",
       "   'created_at': '2019-12-12 09:56:08'},\n",
       "  {'id': 36618,\n",
       "   'anime_id': 4,\n",
       "   'episode': 19,\n",
       "   'episode2': 0,\n",
       "   'edition': '',\n",
       "   'title': '',\n",
       "   'snapshot': 'https://i.animepahe.ru/snapshots/7ca08149fa6447e6340a2a4c86d527ccaa3584b91ef7568fdfb773fd496840fd.jpg',\n",
       "   'disc': '',\n",
       "   'audio': 'jpn',\n",
       "   'duration': '00:25:00',\n",
       "   'session': '817cce243e334b5ab0559f26964c8cd28db04b55ad8240eae774b58ed84aba9c',\n",
       "   'filler': 0,\n",
       "   'created_at': '2019-12-12 09:56:15'},\n",
       "  {'id': 36619,\n",
       "   'anime_id': 4,\n",
       "   'episode': 20,\n",
       "   'episode2': 0,\n",
       "   'edition': '',\n",
       "   'title': '',\n",
       "   'snapshot': 'https://i.animepahe.ru/snapshots/62df0b06ceff679d5871f45e3603326cd7e235b14df74dfff8f3c1ffafaf2a31.jpg',\n",
       "   'disc': '',\n",
       "   'audio': 'jpn',\n",
       "   'duration': '00:25:00',\n",
       "   'session': 'cf58a0ce27eb493e720dc2ce72e026ced3c781899397337bfa81c3ebbfa51a81',\n",
       "   'filler': 0,\n",
       "   'created_at': '2019-12-12 09:56:24'},\n",
       "  {'id': 36620,\n",
       "   'anime_id': 4,\n",
       "   'episode': 21,\n",
       "   'episode2': 0,\n",
       "   'edition': '',\n",
       "   'title': '',\n",
       "   'snapshot': 'https://i.animepahe.ru/snapshots/eb8740e9b2dfe1dec258bc3545688537b18e1f0d2f7efbe188a5f9bf70152fd8.jpg',\n",
       "   'disc': '',\n",
       "   'audio': 'jpn',\n",
       "   'duration': '00:25:00',\n",
       "   'session': '76bd74ec0bd0a2ab620e8fb103e6f2d4255cce6351d2ad023c3f243db7d9e2d6',\n",
       "   'filler': 0,\n",
       "   'created_at': '2019-12-12 09:56:32'},\n",
       "  {'id': 36621,\n",
       "   'anime_id': 4,\n",
       "   'episode': 22,\n",
       "   'episode2': 0,\n",
       "   'edition': '',\n",
       "   'title': '',\n",
       "   'snapshot': 'https://i.animepahe.ru/snapshots/e82aa0fec34bd7f82b4324be6047650b727d6f281a35877d0d90424d986c7eb2.jpg',\n",
       "   'disc': '',\n",
       "   'audio': 'jpn',\n",
       "   'duration': '00:25:00',\n",
       "   'session': '7f9e4f97efe6a9db587da4e011e75dabd977a4bbfb6c749f6fa0f1a59c9f5e80',\n",
       "   'filler': 0,\n",
       "   'created_at': '2019-12-12 09:56:40'},\n",
       "  {'id': 36622,\n",
       "   'anime_id': 4,\n",
       "   'episode': 23,\n",
       "   'episode2': 0,\n",
       "   'edition': '',\n",
       "   'title': '',\n",
       "   'snapshot': 'https://i.animepahe.ru/snapshots/09d61734def489fb1776610f7409462bcf75ddc5c0f67252206300c391bcb0f6.jpg',\n",
       "   'disc': '',\n",
       "   'audio': 'jpn',\n",
       "   'duration': '00:25:00',\n",
       "   'session': '2ae9d7b4af202c16034deba6e98cf7b3b175de937781cb37b57c748bda3b42b6',\n",
       "   'filler': 0,\n",
       "   'created_at': '2019-12-12 09:56:48'},\n",
       "  {'id': 36623,\n",
       "   'anime_id': 4,\n",
       "   'episode': 24,\n",
       "   'episode2': 0,\n",
       "   'edition': '',\n",
       "   'title': '',\n",
       "   'snapshot': 'https://i.animepahe.ru/snapshots/4a4bb41d724ec2a1be10b8b923a6f3abeba72335f7674159bc3849b952acf47c.jpg',\n",
       "   'disc': '',\n",
       "   'audio': 'jpn',\n",
       "   'duration': '00:25:00',\n",
       "   'session': '1d42012072ac8c0ed5d9ea1c9400fffc7b0a7223927010fcda4257ee81c74059',\n",
       "   'filler': 0,\n",
       "   'created_at': '2019-12-12 09:56:56'},\n",
       "  {'id': 36624,\n",
       "   'anime_id': 4,\n",
       "   'episode': 25,\n",
       "   'episode2': 0,\n",
       "   'edition': '',\n",
       "   'title': '',\n",
       "   'snapshot': 'https://i.animepahe.ru/snapshots/165a2591535e4f038c11a3af415a343a2bda12bfc4204c164b40b5432182db2a.jpg',\n",
       "   'disc': '',\n",
       "   'audio': 'jpn',\n",
       "   'duration': '00:25:00',\n",
       "   'session': '91a48cc1f9b7fef878a88c76d5ea2853043534ec5218613fa20f232a2e0d63c2',\n",
       "   'filler': 0,\n",
       "   'created_at': '2019-12-12 09:57:05'},\n",
       "  {'id': 36625,\n",
       "   'anime_id': 4,\n",
       "   'episode': 26,\n",
       "   'episode2': 0,\n",
       "   'edition': '',\n",
       "   'title': '',\n",
       "   'snapshot': 'https://i.animepahe.ru/snapshots/9d156dd2ecab97ed14fc2ed8512ae2e8a779ca67ce28f042806b87eb85830301.jpg',\n",
       "   'disc': '',\n",
       "   'audio': 'jpn',\n",
       "   'duration': '00:25:00',\n",
       "   'session': '468cab7e95402bd567ea5288fe35c40bee530fe3a818f17aa0a150c3005c6a88',\n",
       "   'filler': 0,\n",
       "   'created_at': '2019-12-12 09:57:13'},\n",
       "  {'id': 36626,\n",
       "   'anime_id': 4,\n",
       "   'episode': 27,\n",
       "   'episode2': 0,\n",
       "   'edition': '',\n",
       "   'title': '',\n",
       "   'snapshot': 'https://i.animepahe.ru/snapshots/4116139ded2600481f274455f9753fd32aaf9ef78d1f0f63a3f60baa44a7b6b8.jpg',\n",
       "   'disc': '',\n",
       "   'audio': 'jpn',\n",
       "   'duration': '00:25:00',\n",
       "   'session': '10faaf6a25127431dedf7190fc7521ea5e42b1afbcbd4a8551ccd68cd6f5681d',\n",
       "   'filler': 0,\n",
       "   'created_at': '2019-12-12 09:57:21'},\n",
       "  {'id': 36627,\n",
       "   'anime_id': 4,\n",
       "   'episode': 28,\n",
       "   'episode2': 0,\n",
       "   'edition': '',\n",
       "   'title': '',\n",
       "   'snapshot': 'https://i.animepahe.ru/snapshots/70ab94db28dfb7ae3e4eaed8257b84d71f5549f586689fa3f26ade56b30ec895.jpg',\n",
       "   'disc': '',\n",
       "   'audio': 'jpn',\n",
       "   'duration': '00:25:00',\n",
       "   'session': '9ece7fff3f7d66671da34396b7e1ba93d7708c1c819b55c8fb4b6b1382c6ce84',\n",
       "   'filler': 0,\n",
       "   'created_at': '2019-12-12 09:57:26'},\n",
       "  {'id': 36628,\n",
       "   'anime_id': 4,\n",
       "   'episode': 29,\n",
       "   'episode2': 0,\n",
       "   'edition': '',\n",
       "   'title': '',\n",
       "   'snapshot': 'https://i.animepahe.ru/snapshots/1e6b659b1835591e5d2b1247d1570a524e4761def43e8c3124cafa9b1d872ee4.jpg',\n",
       "   'disc': '',\n",
       "   'audio': 'jpn',\n",
       "   'duration': '00:25:00',\n",
       "   'session': 'b36b2f18f7e1fc57a56be820b038d9cfe5163c000dfd7c561b2533deadfa9aa4',\n",
       "   'filler': 0,\n",
       "   'created_at': '2019-12-12 09:57:36'},\n",
       "  {'id': 36629,\n",
       "   'anime_id': 4,\n",
       "   'episode': 30,\n",
       "   'episode2': 0,\n",
       "   'edition': '',\n",
       "   'title': '',\n",
       "   'snapshot': 'https://i.animepahe.ru/snapshots/f580238050a1cba6a2a257e28b7c11f4e118edb40e09bea5ad4b6e8969a6cdc9.jpg',\n",
       "   'disc': '',\n",
       "   'audio': 'jpn',\n",
       "   'duration': '00:25:00',\n",
       "   'session': '5c0c5867acc4391dc860c498cc57f21c936c5ea19d50a7ee168b02f720e71fa5',\n",
       "   'filler': 0,\n",
       "   'created_at': '2019-12-12 09:57:44'}]}"
      ]
     },
     "execution_count": 66,
     "metadata": {},
     "output_type": "execute_result"
    }
   ],
   "source": [
    "response = requests.get(f\"https://animepahe.ru/api?m=release&id={jsonres['data'][0]['session']}&sort=episode_asc&page=1\")\n",
    "anime_details = response.json()\n",
    "\n",
    "anime_details"
   ]
  },
  {
   "cell_type": "code",
   "execution_count": 67,
   "id": "0e1d0970-cbd9-44dd-bc72-b84290602c9d",
   "metadata": {},
   "outputs": [
    {
     "data": {
      "text/plain": [
       "'https://animepahe.ru/play/1f0c2e22-a432-cda9-7ac8-e6cbc7852a93/a1f3c490883a2f81cd39f1c915b8f0487d1827687d15531263ac3f600f331a77'"
      ]
     },
     "execution_count": 67,
     "metadata": {},
     "output_type": "execute_result"
    }
   ],
   "source": [
    "# getting the episodes\n",
    "def get_episode_link(episode, total):\n",
    "    page = math.ceil(episode/30)\n",
    "    response = requests.get(f\"https://animepahe.ru/api?m=release&id={jsonres['data'][0]['session']}&sort=episode_asc&page={page}\").json()\n",
    "    position = (episode - (page - 1) * 30) - 1\n",
    "    return f\"https://animepahe.ru/play/{jsonres['data'][0]['session']}/{response['data'][position]['session']}\"\n",
    "        \n",
    "link = get_episode_link(60, anime_details['total'])\n",
    "link"
   ]
  },
  {
   "cell_type": "code",
   "execution_count": 53,
   "id": "17b12f1a-1362-446e-9a29-bd36320516e1",
   "metadata": {},
   "outputs": [
    {
     "data": {
      "text/plain": [
       "'<!DOCTYPE html><html lang=\"en-US\"><head><title>Just a moment...</title><meta http-equiv=\"Content-Type\" content=\"text/html; charset=UTF-8\"><meta http-equiv=\"X-UA-Compatible\" content=\"IE=Edge\"><meta name=\"robots\" content=\"noindex,nofollow\"><meta name=\"viewport\" content=\"width=device-width,initial-scale=1\"><link href=\"/cdn-cgi/styles/challenges.css\" rel=\"stylesheet\"><meta http-equiv=\"refresh\" content=\"375\"></head><body class=\"no-js\"><div class=\"main-wrapper\" role=\"main\"><div class=\"main-content\"><noscript><div id=\"challenge-error-title\"><div class=\"h2\"><span class=\"icon-wrapper\"><div class=\"heading-icon warning-icon\"></div></span><span id=\"challenge-error-text\">Enable JavaScript and cookies to continue</span></div></div></noscript></div></div><script>(function(){window._cf_chl_opt={cvId: \\'2\\',cZone: \"animepahe.ru\",cType: \\'managed\\',cNounce: \\'90456\\',cRay: \\'841e86fb5b29d6de\\',cHash: \\'94b828b61a76399\\',cUPMDTk: \"\\\\/play\\\\/1f0c2e22-a432-cda9-7ac8-e6cbc7852a93\\\\/a1f3c490883a2f81cd39f1c915b8f0487d1827687d15531263ac3f600f331a77?__cf_chl_tk=.xV40frAA9rrE2l3_nvr_.AWNI0g9433GMJUk2UvFVA-1704654903-0-gaNycGzNDCU\",cFPWv: \\'g\\',cTTimeMs: \\'1000\\',cMTimeMs: \\'375000\\',cTplV: 5,cTplB: \\'cf\\',cK: \"visitor-time\",fa: \"\\\\/play\\\\/1f0c2e22-a432-cda9-7ac8-e6cbc7852a93\\\\/a1f3c490883a2f81cd39f1c915b8f0487d1827687d15531263ac3f600f331a77?__cf_chl_f_tk=.xV40frAA9rrE2l3_nvr_.AWNI0g9433GMJUk2UvFVA-1704654903-0-gaNycGzNDCU\",md: \"QlGJc9K9yFOBppP4JYZs.3DPBHdpVfqKe1kkTaMVVGM-1704654903-1-AZxbGVSzF2rxYs4YBjw2dh-1xeZiBYHIYqoP68ZE9txvu7QHw6GPcKzRDUmLlymI08j_VnKqJzd_cnYILFcVxk_18IYALEPfi6GAzTgQxg-CwTQzSbTmsRws7xVHiz9mKYzYpvHnyRlSzYfLPtiLjIlk5Kihl9QdVW7_ZxSsTtxvgqF6H4byhKuW3eGEjwoyqvz4jmn7uMpPu2pZZ0PmnDj-HQED7Tv5EEqwhP2ZjxwF7r4TsH7cYdDZuX4nWNs1DiUaTVDFQTXre0QAdF-eoWoSGGouKdkL52YJNOV_ud08b-7N8NkB8LO1TrJp2M3bhflxo7CfHnkF7-PSLYIb914M-030u8RtYl6MyoWZNWi5YlzTjjX89DTd1XMUHmmvXTLTccYvPtc0dtFhyWIRwVrSVuJGCO3i193fEUlXwzVZEsr5WT3Sn4oSFpT5XEZ6tUsJpzFmsOnUAD5oIwR7u29HzP5xxY8lS2-kNk21OR7mZ-NEtMup7tQCp1cnIzAPYrUZKmWgG3B346GHlcNwdL0va50IGyx9xLIJ65N65EOD882gn2WqitMKwCGQ62QngsteHSKpMsdG9pMqNFl_imKFJWThez_nMS3pzO65r7sDqOnHeSXmCNuQq1z395VMDFmTXTFQsR-Gwm4y9Sw9KPdEudVUUrDBPOMcpKdgZ3S_IK-My6_RvL9zLrnqqURhci58JJcjkSIWJSaVaHA9CA2dPIzWnpzldESwn80pWWGBMa-czMCcBtgKE927-aQw2AdLLv0Lz7shLca_rwlXquxlfWyfB0S4LBw2RTNWgM-TlI1chIBZT3h_z8Y2gMYZjameVX3pKKT7yj9MsyYB53CsofQTDCdfdPQHHGkL3mU0HYwnWvgmUYBPsTp6FnPUftyJOX770_t5BB6AG058lxcgB9O8Ode1SY8FNr_2Ei9qT9YcDxqbu_9SoO75ynju-vp5AJsfForbim3eEbf0ibRejRPgWBEf05Fue7jaVkNU6GCBhM4J5PHUMal2Z98RkLT9b_JbtcPcJQ6fGlACIP7A-TSNsVoP5eomdFih8rXYDdKfE8aO-UDPcIYpCCnJeiSrd_BFxjL4G8yesG3H_q6veyek5PZuY_t_DfN_jNl4adiTMUyDzqsg9lx3r5MKzgGtqy7n2nFH7_XMjzdY3oscdVhGexRMDyzXMBlwP7gaTPA05YWEm3fJirKJDwW7lO0lGoIPzrD4613RauqFpxDgNTbCtoNsJsokGJNucnNjo9avIkKwGTSNZE3sFbYT26-NMLCuMt6GKAVSwVM6BSvKAryD_JBiDgOba_IYTVDD1Z9MPLfnirFU6kwed7v4HSd-ozoWWkFWLyGWHsYReRCiHXkN2Yv8tLqbh4lZ56DpHAfrVX3Bkv84WSxkxlQ8BedkZV5wTCypkF7BtJJIlIHWLj_5qwBFWuIBowu5Dmqxh7aLS1fxIIirAJZt9HjUGnL5U2g2TiznvGIGfMTr70bRbdKSn9eCDcGeX3ecQmDSRvx7pz8cSmCGUEE9byhqCmaKqWWbKuL8HpL4laaOaMzyy8dPVGaGJT5pkM1oJFlihJbkaOaP-2JRPuZEjC9uc7-mB8tHDAaRRiUkFQ7S_sSs42sMLReaDPMlxp-f3b064FF0ioFfNpNmY6z2qWggQ9lpHa4jVR3l2Rcs673BD8RupgTpXGfQ0GJFKRbJw89B1K1mlOsH_cWvo4fgohnaSPzTXQqPOwL7VoDA7x_mSLmxi0ppqQdm8Sz5dK1wSkM8S2UY2Lr7gEvRRdYpJ-Hl5Qil1SQewBcGYwnbglZfbJ7R4grkG2FtVRN4Mway5y2dIJl9NYUifFYMEFCCnlIdG8gEVF3LRcL_GpKYvxCsodJdfFtrvsmb4A6SmpK6yv1EM7FnjJUBf_8HAh5-qxsogXCpYZKaTW9xUYOXBxsdF0mZa7g7v8LCJicJY-i0IfNhhkPSyINJ47U7b6iwx_d33xCNMgkxuujJDFNt3PVwha0VzZsRTz9nsE8AqkHyzuZBcPa3ndWV96nDAqQTDl5afp_csFPC9MaAySc6_WsFVjGs60fTn-UhLqMk3HUuHEXhLFn2sYQ2FSY39hgekLPa8r_28aABFvL4nEzqj9dxmMcF_GaaRqEB_rMrMSwgE1fnWiT672IOD_F1_SG3FxBwVERnwOTdV5nb8Bnk1jpkkGQ9CnBlrlQx--y5qYpJW-4n-6jxprVE3g-XOKKod6fZX-UBnJyFDe77wJFKSztx-sojWt0lZFO19TBBHs449bd4_ZAVatjFj34-e0iR1Rq0FXVyQU52SOQwbc9LHvA1k-rfd0YYVTDKddzQRpWfcQ7jhlxeKqZFlSsQI5Py7ISZOlT1kH4JlKSEGAOeS6rdZm5lu9d164mlALvmqJn0xHTBRdEALqfQBSx_LtqpQZJOAstYsvUK1pHBNw0LFcwbA5ONJcJsJbncXGi6l9MYuJhi3O68w4XgBQXkPooJiy7wtAmqwuJreO0Ny0hIXa8TINMyt6XqyJd1WkOKPZ1KaE0tKu-rLS2HWLu5Jc7ScR_GjmQRP-g_Y4mIsqpdDbQdMHarg57TYAQmIfoGfXDDWAjqwlfgmN2ncYhK_gunoodF7H-6ivbElT5o68LJcXOQ_AsICeDHPT93y1A2oyAd90k1fYDN9WEfW6Lpo4pnYEIVmULDI34676sAJiaFlh23zcoKb1Rz2CZpA1q_jXpY7FLLxx3fPJ3FzkGLMhdHngSPx_qn16ydfWjtx7KTfzDChxsD9wKApzZXUGNHDN9M3g9OQf5OrEqJmFxwp-axW6alsaWssdsu_usWmCANuxRFepD9vtoNywcicv_iTv1ZwoPxTfx59P39N_yZf5uIzF6lEZ0gmcYThD2eljf4wri4NgrJiaHkJS8wzTDUd5HR9MMzVnSGeZbHOllZRS_gSLe075LuvLU3WA-wNoTAbP8yMTQ8EOIoXbu2npyxyO-mS_QJDWPdt1egswKpDuhb_VclVWOnVTEqnIsiLwqSecil33cV5GexyAB0MjYS_KL3r2eK\",cRq: {ru: \\'aHR0cHM6Ly9hbmltZXBhaGUucnUvcGxheS8xZjBjMmUyMi1hNDMyLWNkYTktN2FjOC1lNmNiYzc4NTJhOTMvYTFmM2M0OTA4ODNhMmY4MWNkMzlmMWM5MTViOGYwNDg3ZDE4Mjc2ODdkMTU1MzEyNjNhYzNmNjAwZjMzMWE3Nw==\\',ra: \\'TW96aWxsYS81LjAgKE1hY2ludG9zaDsgSW50ZWwgTWFjIE9TIFggMTBfMTVfNykgQXBwbGVXZWJLaXQvNjA1LjEuMTUgKEtIVE1MLCBsaWtlIEdlY2tvKSBWZXJzaW9uLzE3LjEgU2FmYXJpLzYwNS4xLjE1\\',rm: \\'R0VU\\',d: \\'M1vcwgNPxBoRp4UcZPgCxVW8p/Lk1yNUEBm+mteryiOmCTR5KavDfq8YTauaHKyOaUnNU3JacryuRoW7fbVl7RZ77ZHID1NmgjgJBSNHxdSU9/nUVvVn1Q35su1D/ig/WKTHyP8UkukZBl297xuT277DOH11NeUZnCvycmUPuWCHgAOJkbMXM0hkeLwfg09mZM0ywjYI1qiaUcFx6vGF6HXfxbgv+vfoNgKpUv/HxJqcF2SgcpetvYVkunWSRUR212Zv1nnBzWO0Q+q7ds16I0OeOmmcAikEH/aYq2+oYUE2xp4nicrcGvWxiNJ5ecW6OZhOzFZVjNzE+7WLy25imFDA5ZZPCSqnUR6vC88KAV0/ay8utcRJn/Ddaj+h44r6q0RQd4Pwk07wiTtldH1ffwjYylv5C3T75OZCDmq4tFVeEMhD9wZrO4DL2B4X8rX+lKSQnROwllG/bCdOgd95+7UfO2DfXaHjBVatSnMWHGtiWJxri+KZN6yeOK4UN+fRvIHYfk4sJHsgEMpSKdWFLio9RtJpWSN+hT0a5WFl/ncgGFiRaxOYzGvbiDjHWf1hhNptz4fwv6txZRTnUlBjnA==\\',t: \\'MTcwNDY1NDkwMy41NzgwMDA=\\',cT: Math.floor(Date.now() / 1000),m: \\'nL/wWyxQa8R1dnjxse3XTk0E6IQQB/L/pri/wdLPnVM=\\',i1: \\'iEzmls6lXrA3kO5TnY5PMA==\\',i2: \\'Pl/VTAC2KuBg8nDgeOYhQA==\\',zh: \\'NdB0wQOeUmQIgGkISB2qn2wcQ0COyOkzATfUjjits5A=\\',uh: \\'WXl0gHlm4xzkmlaxQ8+RJuv28uuOW37PyRXHAkffUjc=\\',hh: \\'lnreLbBrQR6rUA956Cgjb0a/a5UX1kufJJ/Lm9Dzl4Y=\\',}};var cpo = document.createElement(\\'script\\');cpo.src = \\'/cdn-cgi/challenge-platform/h/g/orchestrate/chl_page/v1?ray=841e86fb5b29d6de\\';window._cf_chl_opt.cOgUHash = location.hash === \\'\\' && location.href.indexOf(\\'#\\') !== -1 ? \\'#\\' : location.hash;window._cf_chl_opt.cOgUQuery = location.search === \\'\\' && location.href.slice(0, location.href.length - window._cf_chl_opt.cOgUHash.length).indexOf(\\'?\\') !== -1 ? \\'?\\' : location.search;if (window.history && window.history.replaceState) {var ogU = location.pathname + window._cf_chl_opt.cOgUQuery + window._cf_chl_opt.cOgUHash;history.replaceState(null, null, \"\\\\/play\\\\/1f0c2e22-a432-cda9-7ac8-e6cbc7852a93\\\\/a1f3c490883a2f81cd39f1c915b8f0487d1827687d15531263ac3f600f331a77?__cf_chl_rt_tk=.xV40frAA9rrE2l3_nvr_.AWNI0g9433GMJUk2UvFVA-1704654903-0-gaNycGzNDCU\" + window._cf_chl_opt.cOgUHash);cpo.onload = function() {history.replaceState(null, null, ogU);}}document.getElementsByTagName(\\'head\\')[0].appendChild(cpo);}());</script><script defer src=\"https://static.cloudflareinsights.com/beacon.min.js/v84a3a4012de94ce1a686ba8c167c359c1696973893317\" integrity=\"sha512-euoFGowhlaLqXsPWQ48qSkBSCFs3DPRyiwVu3FjR96cMPx+Fr+gpWRhIafcHwqwCqWS42RZhIudOvEI+Ckf6MA==\" data-cf-beacon=\\'{\"rayId\":\"841e86fb5b29d6de\",\"version\":\"2023.10.0\",\"r\":1,\"token\":\"d1ad5cc3135545d2bbf467676530cd94\",\"b\":1}\\' crossorigin=\"anonymous\"></script>\\n</body></html>'"
      ]
     },
     "execution_count": 53,
     "metadata": {},
     "output_type": "execute_result"
    }
   ],
   "source": [
    "\n",
    "requests.get(\n",
    "    \"https://animepahe.ru/play/1f0c2e22-a432-cda9-7ac8-e6cbc7852a93/a1f3c490883a2f81cd39f1c915b8f0487d1827687d15531263ac3f600f331a77\",\n",
    "    headers={\n",
    "        'User-Agent': 'Mozilla/5.0 (Macintosh; Intel Mac OS X 10_15_7) AppleWebKit/605.1.15 (KHTML, like Gecko) Version/17.1 Safari/605.1.15'\n",
    "    }\n",
    ").text"
   ]
  },
  {
   "cell_type": "code",
   "execution_count": 68,
   "id": "b359fcc6-a8b0-463a-81f0-afdff72b57ed",
   "metadata": {},
   "outputs": [],
   "source": [
    "driver.get(link)"
   ]
  },
  {
   "cell_type": "code",
   "execution_count": 69,
   "id": "7ea9b395-9896-49ff-a740-405598e0c0a3",
   "metadata": {},
   "outputs": [
    {
     "data": {
      "text/plain": [
       "[]"
      ]
     },
     "execution_count": 69,
     "metadata": {},
     "output_type": "execute_result"
    }
   ],
   "source": [
    "# Get quality lists\n",
    "qualities = []\n",
    "\n",
    "for a in driver.find_elements(By.CSS_SELECTOR, \"#pickDownload .dropdown-item\"):\n",
    "    quality = {\n",
    "        \"name\": a.get_attribute(\"innerHTML\").split(\" \")[2],\n",
    "        \"link\": a.get_attribute(\"href\")\n",
    "    }\n",
    "    qualities.append(quality)\n",
    "\n",
    "qualities"
   ]
  },
  {
   "cell_type": "code",
   "execution_count": 13,
   "id": "d4a408aa-63d8-498a-829d-c75ee40662cd",
   "metadata": {},
   "outputs": [
    {
     "data": {
      "text/plain": [
       "'https://pahe.win/jLTYJ'"
      ]
     },
     "execution_count": 13,
     "metadata": {},
     "output_type": "execute_result"
    }
   ],
   "source": [
    "qualities[0]['link']"
   ]
  },
  {
   "cell_type": "code",
   "execution_count": 15,
   "id": "6d145efb-0440-4181-b7fa-edd3644f7763",
   "metadata": {},
   "outputs": [],
   "source": [
    "driver.get(qualities[0]['link'])"
   ]
  },
  {
   "cell_type": "code",
   "execution_count": 16,
   "id": "824c2558-7fdc-474a-99d5-6ab86a1fb8ce",
   "metadata": {},
   "outputs": [
    {
     "name": "stdout",
     "output_type": "stream",
     "text": [
      "Couldn't find button, waiting 7s\n"
     ]
    },
    {
     "data": {
      "text/plain": [
       "'https://kwik.cx/f/abIaGBnaQwUk'"
      ]
     },
     "execution_count": 16,
     "metadata": {},
     "output_type": "execute_result"
    }
   ],
   "source": [
    "# Get the continue button\n",
    "link_to_download = \"\"\n",
    "\n",
    "while True:\n",
    "    try:\n",
    "        a = driver.find_element(By.XPATH, \"//a[text()='Continue']\")\n",
    "        link_to_download = a.get_attribute(\"href\")\n",
    "        break\n",
    "    except:\n",
    "        print(\"Couldn't find button, waiting 7s\")\n",
    "        time.sleep(7)\n",
    " \n",
    "link_to_download"
   ]
  },
  {
   "cell_type": "code",
   "execution_count": 17,
   "id": "1ff9e86f-a39a-42e5-80dc-96c5deb5bc7b",
   "metadata": {},
   "outputs": [],
   "source": [
    "driver.get(link_to_download)"
   ]
  },
  {
   "cell_type": "code",
   "execution_count": 18,
   "id": "125dd523-df8b-46b2-9faa-ef62d7e94c6d",
   "metadata": {},
   "outputs": [
    {
     "name": "stdout",
     "output_type": "stream",
     "text": [
      "Link: https://kwik.cx/d/abIaGBnaQwUk\n",
      "Token: uw6NEU7VCFKf540KHPZ08pelX51IcoB5UPqdEC7T\n"
     ]
    }
   ],
   "source": [
    "# Find button and click it\n",
    "link = driver.find_element(By.CSS_SELECTOR, \".main .download form\").get_attribute(\"action\")\n",
    "token = driver.find_element(By.CSS_SELECTOR, \".main .download form input\").get_attribute(\"value\")\n",
    "print(\"Link:\", link)\n",
    "print(\"Token:\", token)\n"
   ]
  },
  {
   "cell_type": "code",
   "execution_count": 19,
   "id": "44005825-38e8-4a75-9326-38042d50d977",
   "metadata": {},
   "outputs": [
    {
     "data": {
      "text/plain": [
       "'kwik_session=eyJpdiI6Ik1wbkllY0p6OHhpODhYQlB2SU9mTWc9PSIsInZhbHVlIjoiOVpEdVRiYS8zbHJOVW0yZDVIRDFSajlrdWhjQmk2a3hwRFNFZGp2NGdLRVQvNEVNRmROT1FRRGRZZFBSUklBWkM1bGN6WEZ0Lzl3VTc5R09hRHJ6SEMyTFIzL2dwMUE1RXhJeEVEZ0ZoSFVxcnRKbkloeFNtRVRTdDZRdzUwMXYiLCJtYWMiOiI4NjYzNmY2ODljY2YyNjUyMGJkOGExMzBmZTk5ZWEwNTRjZDVlZWQwOWJjYjMwMjU1YjZmNjgxY2RhNjRjNmFkIiwidGFnIjoiIn0%3D; srv=s0; ppu_show_on_4e5e04716f26fd21bf611637f4fb8a46=1; sb_page_e1010ee4b61613b1b253d71d1c531c2e=1; sb_main_e1010ee4b61613b1b253d71d1c531c2e=1; sb_count_e1010ee4b61613b1b253d71d1c531c2e=1; sb_onpage_e1010ee4b61613b1b253d71d1c531c2e=1; ppu_main_4e5e04716f26fd21bf611637f4fb8a46=1; ppu_exp_4e5e04716f26fd21bf611637f4fb8a46=1704583776595; dom3ic8zudi28v8lr6fgphwffqoz0j6c=815d8304-d961-43eb-b897-09371d8d2f7f%3A1%3A1; pbpr0tpuw4isk85t8yg3jb2lj5vqf=sortveil.com'"
      ]
     },
     "execution_count": 19,
     "metadata": {},
     "output_type": "execute_result"
    }
   ],
   "source": [
    "# cookies = {}\n",
    "# for cookie in driver.get_cookies():\n",
    "#     cookies[cookie['name']] = cookie['value']\n",
    "# cookies\n",
    "\n",
    "cookies = '; '.join([\n",
    "    f\"{cookie['name']}={cookie['value']}\"\n",
    "    for cookie in driver.get_cookies()\n",
    "])\n",
    "cookies"
   ]
  },
  {
   "cell_type": "code",
   "execution_count": 20,
   "id": "b08f1fea-c241-4045-90a6-04742bf2b310",
   "metadata": {},
   "outputs": [],
   "source": [
    "data = {\n",
    "    \"_token\": token\n",
    "}\n",
    "headers = {\n",
    "  'User-Agent': 'Mozilla/5.0 (Macintosh; Intel Mac OS X 10.15; rv:121.0) Gecko/20100101 Firefox/121.0',\n",
    "  'Referer': 'https://kwik.cx/f/r6gCLSqIe9Nh',\n",
    "  'Origin': 'https://kwik.cx',\n",
    "  'Host': 'kwik.cx',\n",
    "  'Cookie': cookies\n",
    "}"
   ]
  },
  {
   "cell_type": "code",
   "execution_count": 21,
   "id": "1fa207f5-0f2e-4d48-8d9d-973346d25390",
   "metadata": {},
   "outputs": [
    {
     "name": "stdout",
     "output_type": "stream",
     "text": [
      "AnimePahe_One_Piece_-_002_720p_HorribleSubs.mp4\n"
     ]
    },
    {
     "name": "stderr",
     "output_type": "stream",
     "text": [
      "100%|███████████████████████████████████████████████████████████████████████████████████████| 125M/125M [00:58<00:00, 2.13MiB/s]\n"
     ]
    }
   ],
   "source": [
    "\n",
    "data = {\n",
    "    \"_token\": token\n",
    "}\n",
    "response = requests.post(link, data=data, headers=headers, stream=True)\n",
    "file_name = response.headers.get('Content-Disposition').split('=')[1]\n",
    "print(file_name)\n",
    "\n",
    "response.raise_for_status()\n",
    "\n",
    "total_size = int(response.headers.get('content-length', 0))\n",
    "block_size = 1024  # 1 Kibibyte\n",
    "\n",
    "progress_bar = tqdm(total=total_size, unit='iB', unit_scale=True)\n",
    "\n",
    "with open(file_name, 'wb') as file:\n",
    "    for data in response.iter_content(block_size):\n",
    "        progress_bar.update(len(data))\n",
    "        file.write(data)\n",
    "\n",
    "progress_bar.close()"
   ]
  },
  {
   "cell_type": "code",
   "execution_count": null,
   "id": "86409a06-6605-44b1-9d93-18d9f3f6ea53",
   "metadata": {},
   "outputs": [],
   "source": []
  }
 ],
 "metadata": {
  "kernelspec": {
   "display_name": "Python 3 (ipykernel)",
   "language": "python",
   "name": "python3"
  },
  "language_info": {
   "codemirror_mode": {
    "name": "ipython",
    "version": 3
   },
   "file_extension": ".py",
   "mimetype": "text/x-python",
   "name": "python",
   "nbconvert_exporter": "python",
   "pygments_lexer": "ipython3",
   "version": "3.8.16"
  }
 },
 "nbformat": 4,
 "nbformat_minor": 5
}
