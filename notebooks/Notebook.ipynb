{
 "cells": [
  {
   "cell_type": "code",
   "execution_count": 1,
   "id": "03f61225-3a41-47f1-a4d1-e58310a75327",
   "metadata": {},
   "outputs": [],
   "source": [
    "from selenium import webdriver\n",
    "from selenium_stealth import stealth\n",
    "from selenium.webdriver.common.by import By\n",
    "from selenium.webdriver.chrome.options import Options\n",
    "from tqdm import tqdm\n",
    "import time\n",
    "import math"
   ]
  },
  {
   "cell_type": "code",
   "execution_count": 2,
   "id": "15d17071-5c58-4184-a18f-e7a8c8987f6b",
   "metadata": {},
   "outputs": [],
   "source": [
    "options = webdriver.ChromeOptions()\n",
    "options.add_argument(\"start-maximized\")\n",
    "# options.add_argument(\"--headless\")\n",
    "options.add_experimental_option(\"excludeSwitches\", [\"enable-automation\"])\n",
    "options.add_experimental_option('useAutomationExtension', False)\n",
    "\n",
    "driver = webdriver.Chrome(options=options)"
   ]
  },
  {
   "cell_type": "code",
   "execution_count": 3,
   "id": "b70f0fb3-fe70-49a9-b3eb-22c0fb454aea",
   "metadata": {},
   "outputs": [],
   "source": [
    "# stealth(driver,\n",
    "#     languages=[\"en-US\", \"en\"],\n",
    "#     vendor=\"Google Inc.\",\n",
    "#     platform=\"Win32\",\n",
    "#     webgl_vendor=\"Intel Inc.\",\n",
    "#     renderer=\"Intel Iris OpenGL Engine\",\n",
    "#     fix_hairline=True,\n",
    "# )"
   ]
  },
  {
   "cell_type": "code",
   "execution_count": 4,
   "id": "e8f426f9-c5bc-4e62-958c-aa0032bde3a0",
   "metadata": {},
   "outputs": [],
   "source": [
    "driver.get(\"https://google.com\")\n",
    "\n",
    "# input = driver.find_element(By.CLASS_NAME, \"input-search\")\n",
    "# input.send_keys(\"One piece\")"
   ]
  },
  {
   "cell_type": "code",
   "execution_count": 5,
   "id": "d7ff4f46-808c-494e-8205-1b6f9a326d4e",
   "metadata": {},
   "outputs": [],
   "source": [
    "# Get search results\n",
    "# search_result_wrap = driver.find_element(By.CLASS_NAME, \"search-results-wrap\")\n",
    "\n",
    "# while True:\n",
    "#     try:\n",
    "#         ul =  search_result_wrap.find_element(By.CLASS_NAME, \"search-results\")\n",
    "#         li = ul.find_elements(By.TAG_NAME, \"li\")\n",
    "#         for anime in li:\n",
    "#             a = anime.find_element(By.TAG_NAME, \"a\")\n",
    "#             result_title = a.find_element(By.CLASS_NAME, \"result-title\")\n",
    "#             print (result_title.text.strip())\n",
    "#         break\n",
    "#     except Exception as e:\n",
    "#         print (f\"Couldn't find the results. Retrying in 5s: {e}\")\n",
    "#         time.sleep(5)"
   ]
  },
  {
   "cell_type": "code",
   "execution_count": 4,
   "id": "c4c786bc-cbdc-452a-a989-348c874cd530",
   "metadata": {},
   "outputs": [
    {
     "name": "stdout",
     "output_type": "stream",
     "text": [
      "{'total': 28, 'per_page': 8, 'current_page': 1, 'last_page': 4, 'from': 1, 'to': 8, 'data': [{'id': 2212, 'title': 'Classroom of the Elite', 'type': 'TV', 'episodes': 12, 'status': 'Finished Airing', 'season': 'Summer', 'year': 2017, 'score': 7.86, 'poster': 'https://i.animepahe.ru/posters/ec13a6ead81684e5105536f66ac0b205ca840e20e7ed7b17a003b7e58bde6251.jpg', 'session': 'f407d438-3cb3-afe7-13dd-9f883ae9e6c6'}, {'id': 4810, 'title': 'Classroom of the Elite II', 'type': 'TV', 'episodes': 13, 'status': 'Finished Airing', 'season': 'Summer', 'year': 2022, 'score': 8.12, 'poster': 'https://i.animepahe.ru/posters/935d3af342283deca3325a5dc494169918eea63bed767ad7e15f02df7630813e.jpg', 'session': '6bec0681-8d7e-e5da-1f3b-b091117acaea'}, {'id': 5422, 'title': 'Classroom of the Elite III', 'type': 'TV', 'episodes': 13, 'status': 'Currently Airing', 'season': 'Winter', 'year': 2024, 'score': 8.15, 'poster': 'https://i.animepahe.ru/posters/85264ef7b2687a32b319626671107f197366a6adfa5e083b748455ade7542e7d.jpg', 'session': 'c68f7037-f61e-8ef8-6b03-c1940dafe868'}, {'id': 901, 'title': 'Anne Happy♪', 'type': 'TV', 'episodes': 12, 'status': 'Finished Airing', 'season': 'Spring', 'year': 2016, 'score': 6.95, 'poster': 'https://i.animepahe.ru/posters/d836386e14de8afead698753b5948d765a16c7b6ad55d6c89c39e8da3a583949.jpg', 'session': '0d053578-7a72-38c8-006b-5f22279a8e79'}, {'id': 1079, 'title': 'Danganronpa: Kibou no Gakuen to Zetsubou no Koukousei The Animation', 'type': 'TV', 'episodes': 13, 'status': 'Finished Airing', 'season': 'Summer', 'year': 2013, 'score': 7.21, 'poster': 'https://i.animepahe.ru/posters/5e57bd2c4ead8d6bcf180fcb5ee3350aefae7df8534144ae704bad9ec7dbbb1a.jpg', 'session': '40c36cc9-364f-85ff-ed60-36d5f94d3dc3'}, {'id': 477, 'title': 'Ansatsu Kyoushitsu', 'type': 'TV', 'episodes': 22, 'status': 'Finished Airing', 'season': 'Winter', 'year': 2015, 'score': 8.08, 'poster': 'https://i.animepahe.ru/posters/4e01fe6e566f8b27089794b4562f1417717fe589cdc86cd2912f991c11c86958.jpg', 'session': '0026dfd4-c071-02fa-bc8d-ff8c2d23628d'}, {'id': 1284, 'title': 'Classroom☆Crisis', 'type': 'TV', 'episodes': 13, 'status': 'Finished Airing', 'season': 'Summer', 'year': 2015, 'score': 6.96, 'poster': 'https://i.animepahe.ru/posters/d13f6b101e238ab479f6e5688200f99135fbafebfb5859936753d3b8f324bbd4.jpg', 'session': 'b0bab19d-f8ba-f607-2abd-c5a4c723bf7b'}, {'id': 2998, 'title': 'Ansatsu Kyoushitsu: 365-nichi no Jikan', 'type': 'Movie', 'episodes': 1, 'status': 'Finished Airing', 'season': 'Fall', 'year': 2016, 'score': 7.35, 'poster': 'https://i.animepahe.ru/posters/6406d20bbaabf2e4ef735c961094f931e08e9146a1c8c791dad79148b6d2494a.jpg', 'session': 'f40ba993-afe5-b8e5-8896-4a979917d464'}]}\n"
     ]
    }
   ],
   "source": [
    "import requests\n",
    "\n",
    "response = requests.get(\"https://animepahe.ru/api?m=search&q=Classroom of the elites\")\n",
    "jsonres = None\n",
    "\n",
    "if response.status_code == 200:\n",
    "    # Print the response content (usually in JSON format for APIs)\n",
    "    jsonres = response.json()\n",
    "    print(jsonres)\n",
    "else:\n",
    "    # Print an error message if the request was not successful\n",
    "    print(f\"Error: {response.status_code} - {response.text}\")"
   ]
  },
  {
   "cell_type": "code",
   "execution_count": 5,
   "id": "a22ecd7a-aff7-4aeb-b446-69691a18a2ed",
   "metadata": {},
   "outputs": [],
   "source": [
    "driver.get(f\"https://animepahe.ru/anime/{jsonres['data'][0]['session']}\")"
   ]
  },
  {
   "cell_type": "code",
   "execution_count": 6,
   "id": "2d66b557-fb1f-4e10-b2c0-72acb184d41d",
   "metadata": {},
   "outputs": [
    {
     "data": {
      "text/plain": [
       "{'total': 12,\n",
       " 'per_page': 30,\n",
       " 'current_page': 1,\n",
       " 'last_page': 1,\n",
       " 'next_page_url': None,\n",
       " 'prev_page_url': None,\n",
       " 'from': 1,\n",
       " 'to': 12,\n",
       " 'data': [{'id': 15072,\n",
       "   'anime_id': 2212,\n",
       "   'episode': 1,\n",
       "   'episode2': 0,\n",
       "   'edition': '',\n",
       "   'title': '',\n",
       "   'snapshot': 'https://i.animepahe.ru/snapshots/32163dfdfd63aeae3d15143139c06536ba52cda048f46dd30b499683a8b0e53c.jpg',\n",
       "   'disc': 'BD',\n",
       "   'audio': 'eng',\n",
       "   'duration': '00:24:01',\n",
       "   'session': '1e8a02b2734e47420acbf2a822c845c88778d519f58f7d4b947b2c1b91527e87',\n",
       "   'filler': 0,\n",
       "   'created_at': '2019-01-18 19:30:23'},\n",
       "  {'id': 15073,\n",
       "   'anime_id': 2212,\n",
       "   'episode': 2,\n",
       "   'episode2': 0,\n",
       "   'edition': '',\n",
       "   'title': '',\n",
       "   'snapshot': 'https://i.animepahe.ru/snapshots/431a3c16dbd88ce0447167d645b0ff5b9335ec89e045d6ef7c278a836fa341af.jpg',\n",
       "   'disc': 'BD',\n",
       "   'audio': 'eng',\n",
       "   'duration': '00:24:01',\n",
       "   'session': 'bcfa34def44627be0e634a64325c087d9a6aea12b0716bb9b46ccfc47bdce70a',\n",
       "   'filler': 0,\n",
       "   'created_at': '2019-01-18 19:38:15'},\n",
       "  {'id': 15074,\n",
       "   'anime_id': 2212,\n",
       "   'episode': 3,\n",
       "   'episode2': 0,\n",
       "   'edition': '',\n",
       "   'title': '',\n",
       "   'snapshot': 'https://i.animepahe.ru/snapshots/dc73b997120446c00a2a28c0c56da3326619f40c2a67e2316309ea6847c0458d.jpg',\n",
       "   'disc': 'BD',\n",
       "   'audio': 'eng',\n",
       "   'duration': '00:24:01',\n",
       "   'session': 'd19dc63c0fec0bc7070d182e12869ad4049a0af7e049029d733c2d1e04967aa6',\n",
       "   'filler': 0,\n",
       "   'created_at': '2019-01-18 19:45:52'},\n",
       "  {'id': 15075,\n",
       "   'anime_id': 2212,\n",
       "   'episode': 4,\n",
       "   'episode2': 0,\n",
       "   'edition': '',\n",
       "   'title': '',\n",
       "   'snapshot': 'https://i.animepahe.ru/snapshots/e366f12d4ced07ab976d9f6d0df89494bdf333bc36ebd66ff289ab2dc287f1c9.jpg',\n",
       "   'disc': 'BD',\n",
       "   'audio': 'eng',\n",
       "   'duration': '00:24:01',\n",
       "   'session': '3a6113d659058972e146afca6975c53c9c87f87c7d5b9a3e036e6ae755a7ed72',\n",
       "   'filler': 0,\n",
       "   'created_at': '2019-01-18 19:53:52'},\n",
       "  {'id': 15076,\n",
       "   'anime_id': 2212,\n",
       "   'episode': 5,\n",
       "   'episode2': 0,\n",
       "   'edition': '',\n",
       "   'title': '',\n",
       "   'snapshot': 'https://i.animepahe.ru/snapshots/12ad979ed7c2fba8497c087b648d28aa7510da2ffadc492619e3ebab516a2367.jpg',\n",
       "   'disc': 'BD',\n",
       "   'audio': 'eng',\n",
       "   'duration': '00:24:01',\n",
       "   'session': '6addb42093f86693df4441a7f04f0af755afe5e4ae428d35ea453e4e6a6d294c',\n",
       "   'filler': 0,\n",
       "   'created_at': '2019-01-18 20:01:34'},\n",
       "  {'id': 15077,\n",
       "   'anime_id': 2212,\n",
       "   'episode': 6,\n",
       "   'episode2': 0,\n",
       "   'edition': '',\n",
       "   'title': '',\n",
       "   'snapshot': 'https://i.animepahe.ru/snapshots/07db4273d0f428aad2e2989ae376958e4a2f3b85c2549cb7497a54b746c91e13.jpg',\n",
       "   'disc': 'BD',\n",
       "   'audio': 'eng',\n",
       "   'duration': '00:24:01',\n",
       "   'session': '724671dcd7ae7f9e55085ea3134ff38f7c404ee81b5ce8ccc1870a81fbe223e3',\n",
       "   'filler': 0,\n",
       "   'created_at': '2019-01-18 20:09:39'},\n",
       "  {'id': 15078,\n",
       "   'anime_id': 2212,\n",
       "   'episode': 7,\n",
       "   'episode2': 0,\n",
       "   'edition': '',\n",
       "   'title': '',\n",
       "   'snapshot': 'https://i.animepahe.ru/snapshots/638b73e8ad966d753cfa7ce5127a2ced6f58a6765cee604940ad63e86c1ca644.jpg',\n",
       "   'disc': 'BD',\n",
       "   'audio': 'eng',\n",
       "   'duration': '00:24:01',\n",
       "   'session': 'd1e10362e1fe2dcf16368a8332bf3c90a933320b0d2092e718aa5da76d4d848d',\n",
       "   'filler': 0,\n",
       "   'created_at': '2019-01-18 20:17:43'},\n",
       "  {'id': 15079,\n",
       "   'anime_id': 2212,\n",
       "   'episode': 8,\n",
       "   'episode2': 0,\n",
       "   'edition': '',\n",
       "   'title': '',\n",
       "   'snapshot': 'https://i.animepahe.ru/snapshots/a9d84173ea1167bc64993da0660bfc19515ddbbf889e8dc45157b0b932ddaeeb.jpg',\n",
       "   'disc': 'BD',\n",
       "   'audio': 'eng',\n",
       "   'duration': '00:24:01',\n",
       "   'session': '4d69b06152e4f16fa7dddc2ab9bd324b71f46f0f12ae4da848f2a3f4074e2a90',\n",
       "   'filler': 0,\n",
       "   'created_at': '2019-01-18 20:25:41'},\n",
       "  {'id': 15080,\n",
       "   'anime_id': 2212,\n",
       "   'episode': 9,\n",
       "   'episode2': 0,\n",
       "   'edition': '',\n",
       "   'title': '',\n",
       "   'snapshot': 'https://i.animepahe.ru/snapshots/60ee11df62e938e5b1411c870d6463d486065d435419bf3134a51b9946c78e04.jpg',\n",
       "   'disc': 'BD',\n",
       "   'audio': 'eng',\n",
       "   'duration': '00:24:01',\n",
       "   'session': '4681c6759b55340b8e4704badf774a6273814ae569884e313492fdfdadedc73d',\n",
       "   'filler': 0,\n",
       "   'created_at': '2019-01-18 20:33:38'},\n",
       "  {'id': 15081,\n",
       "   'anime_id': 2212,\n",
       "   'episode': 10,\n",
       "   'episode2': 0,\n",
       "   'edition': '',\n",
       "   'title': '',\n",
       "   'snapshot': 'https://i.animepahe.ru/snapshots/c3fa777f9860b5e610a7e18992b8b4b79daf3c38dfe40f47ef64b6ff836d5ee0.jpg',\n",
       "   'disc': 'BD',\n",
       "   'audio': 'eng',\n",
       "   'duration': '00:24:01',\n",
       "   'session': '56a0f12a9294df4557a71bc7718e8a6f4ab8295aaf7dc33dfbcedc518527e853',\n",
       "   'filler': 0,\n",
       "   'created_at': '2019-01-18 20:41:24'},\n",
       "  {'id': 15082,\n",
       "   'anime_id': 2212,\n",
       "   'episode': 11,\n",
       "   'episode2': 0,\n",
       "   'edition': '',\n",
       "   'title': '',\n",
       "   'snapshot': 'https://i.animepahe.ru/snapshots/fb9709daddee85d2b1515e31b65920699d41d1ab2b85b9a5754aa7e8679c3da9.jpg',\n",
       "   'disc': 'BD',\n",
       "   'audio': 'eng',\n",
       "   'duration': '00:24:00',\n",
       "   'session': '1a064cb54d50834dc215bc6a115576a51cf8f5dd4df1e65ce3fbb9472aca0da7',\n",
       "   'filler': 0,\n",
       "   'created_at': '2019-01-18 20:50:12'},\n",
       "  {'id': 15083,\n",
       "   'anime_id': 2212,\n",
       "   'episode': 12,\n",
       "   'episode2': 0,\n",
       "   'edition': '',\n",
       "   'title': '',\n",
       "   'snapshot': 'https://i.animepahe.ru/snapshots/00fbe4ca63bc844a9eca53afc32db73b49ea70cdd8076aabcdcb87c8f005a4cf.jpg',\n",
       "   'disc': 'BD',\n",
       "   'audio': 'eng',\n",
       "   'duration': '00:23:56',\n",
       "   'session': 'df276dd48d40e3a900c150ec3b93b4d00b957f3230b5e1a6971a272da4b7019d',\n",
       "   'filler': 0,\n",
       "   'created_at': '2019-01-18 20:58:19'}]}"
      ]
     },
     "execution_count": 6,
     "metadata": {},
     "output_type": "execute_result"
    }
   ],
   "source": [
    "response = requests.get(f\"https://animepahe.ru/api?m=release&id={jsonres['data'][0]['session']}&sort=episode_asc&page=1\")\n",
    "anime_details = response.json()\n",
    "\n",
    "anime_details"
   ]
  },
  {
   "cell_type": "code",
   "execution_count": 7,
   "id": "0e1d0970-cbd9-44dd-bc72-b84290602c9d",
   "metadata": {},
   "outputs": [
    {
     "data": {
      "text/plain": [
       "'https://animepahe.ru/play/f407d438-3cb3-afe7-13dd-9f883ae9e6c6/1e8a02b2734e47420acbf2a822c845c88778d519f58f7d4b947b2c1b91527e87'"
      ]
     },
     "execution_count": 7,
     "metadata": {},
     "output_type": "execute_result"
    }
   ],
   "source": [
    "# getting the episodes\n",
    "def get_episode_link(episode, total):\n",
    "    page = math.ceil(episode/30)\n",
    "    response = requests.get(f\"https://animepahe.ru/api?m=release&id={jsonres['data'][0]['session']}&sort=episode_asc&page={page}\").json()\n",
    "    position = (episode - (page - 1) * 30) - 1\n",
    "    return f\"https://animepahe.ru/play/{jsonres['data'][0]['session']}/{response['data'][position]['session']}\"\n",
    "        \n",
    "link = get_episode_link(1, anime_details['total'])\n",
    "link"
   ]
  },
  {
   "cell_type": "code",
   "execution_count": 8,
   "id": "17b12f1a-1362-446e-9a29-bd36320516e1",
   "metadata": {},
   "outputs": [
    {
     "data": {
      "text/plain": [
       "'<!DOCTYPE html>\\n<html lang=\"en\">\\n<head>\\n<link rel=\"profile\" href=\"https://gmpg.org/xfn/11\">\\n<link rel=\"alternate\" href=\"https://animepahe.ru\" hreflang=\"en-us\">\\n<meta name=\"viewport\" content=\"width=device-width,initial-scale=1\">\\n<meta name=\"theme-color\" content=\"#373a3c\">\\n<meta name=\"msapplication-navbutton-color\" content=\"#373a3c\">\\n<meta name=\"apple-mobile-web-app-status-bar-style\" content=\"#373a3c\">\\n<meta http-equiv=\"x-dns-prefetch-control\" content=\"on\">\\n<link rel=\"preconnect\" href=\"//i.animepahe.ru\">\\n<link rel=\"preload\" href=\"/app/fonts/QldONTRRphEb_-V7LB6xTA.woff2\" as=\"font\" type=\"font/woff2\" crossorigin>\\n<link rel=\"preload\" href=\"/app/css/bootstrap.min.css\" as=\"style\">\\n<link rel=\"preload\" href=\"/app/css/fork-awesome.min.css\" as=\"style\">\\n<link rel=\"preload\" href=\"/app/css/style.css\" as=\"style\">\\n<link rel=\"preload\" href=\"/app/css/yuki.css\" as=\"style\">\\n<link rel=\"preload\" href=\"/app/js/vendor/bootstrap.bundle.min.js\" as=\"script\">\\n<link rel=\"preload\" href=\"/app/js/core.js\" as=\"script\">\\n<meta name=\"msapplication-TileImage\" content=\"https://animepahe.ru/animepahe-270x270.png\">\\n<title>Oops... 404 Not Found</title>\\n<meta name=\"description\" content=\"Watch or download anime shows in HD 720p/1080p.\">\\n<meta name=\"keywords\" content=\"Anime,Pahe,Mini,720p,HD,mp4,English,Subtitle,Hardsub\">\\n<meta name=\"robots\" content=\"index, follow, max-image-preview:large, max-snippet:-1, max-video-preview:-1\">\\n<meta property=\"og:site_name\" content=\"animepahe\">\\n<meta property=\"og:locale\" content=\"en_US\">\\n<meta property=\"og:image\" content=\"https://animepahe.ru/animepahe-270x270.png\">\\n<meta property=\"og:url\" content=\"https://animepahe.ru\">\\n<meta property=\"og:type\" content=\"website\">\\n<meta property=\"og:title\" content=\"cloud anime encoding\">\\n<meta property=\"og:description\" content=\"Watch or download anime shows in HD 720p/1080p.\">\\n<meta name=\"author\" content=\"animepahe\">\\n<link href=\"/apple-touch-icon.png\" rel=\"apple-touch-icon-precomposed\" type=\"image/png\">\\n<link href=\"/apple-touch-icon.png\" rel=\"shortcut icon\">\\n<link href=\"/pikacon-32x32.png\" rel=\"shortcut icon\" type=\"image/png\">\\n<link href=\"/pikacon.ico\" rel=\"shortcut icon\" type=\"image/x-icon\">\\n<link rel=\"alternate\" type=\"application/rss+xml\" title=\"RSS 2.0\" href=\"https://animepahe.ru/feed\">\\n<link rel=\"stylesheet\" href=\"/app/css/bootstrap.min.css\">\\n<link rel=\"stylesheet\" href=\"/app/css/fork-awesome.min.css\">\\n<link rel=\"stylesheet\" href=\"/app/css/style.css\">\\n<link rel=\"stylesheet\" href=\"/app/css/yuki.css\">\\n</head>\\n<body>\\n<header class=\"main-header\">\\n<nav class=\"navbar navbar-expand-lg\">\\n<a href=\"/\" class=\"navbar-brand\" title=\"animepahe\"><img src=\"/app/images/apdoesnthavelogotheysaidapistooplaintheysaid.svg\" onerror=\"this.src=\\'/app/images/apdoesnthavelogotheysaidapistooplaintheysaid.png\\'\" loading=\"lazy\" alt=\"AnimePahe\"></a>\\n<button class=\"navbar-toggler navbar-toggler-right\" type=\"button\" data-toggle=\"collapse\" data-target=\"#navbarNavDropdown\" aria-controls=\"navbarNavDropdown\" aria-expanded=\"false\" aria-label=\"Toggle navigation\">\\n<span class=\"navbar-toggler-icon\"></span>\\n</button>\\n<div class=\"collapse navbar-collapse\" id=\"navbarNavDropdown\">\\n<ul class=\"navbar-nav mr-auto main-nav\">\\n<li class=\"nav-item\">\\n<a class=\"nav-link\" href=\"/\" title=\"home\">home</a>\\n</li>\\n\\n<li class=\"nav-item\">\\n<a class=\"nav-link\" href=\"/anime\" title=\"anime\">anime</a>\\n</li>\\n<li class=\"nav-item\">\\n<a class=\"nav-link\" href=\"/queue\" title=\"queue\">queue</a>\\n</li>\\n</ul>\\n<form class=\"form-inline nav-search\" onkeypress=\"return event.keyCode != 13;\">\\n<input name=\"q\" class=\"input-search\" type=\"text\" placeholder=\"Search\" autocomplete=\"off\" required>\\n<div class=\"search-results-wrap\"></div>\\n</form>\\n</div>\\n</nav>\\n</header>\\n<div class=\"alert alert-top alert-dismissible fade show ann-fakesite\" style=\"padding-right:1.25rem;z-index:2\" role=\"alert\">\\n<div class=\"wrapper\" style=\"position:relative\">\\n<button type=\"button\" class=\"close close-ann-fakesite\" style=\"padding:0\" data-dismiss=\"alert\" aria-label=\"Close\">\\n<span aria-hidden=\"true\">&times;</span>\\n</button>\\n<small>Beware of fake websites, our only domains are <a href=\"//animepahe.ru\" style=\"color:#fff;font-weight:bold;text-decoration:underline\">animepahe.ru</a>, <a href=\"//animepahe.org\" style=\"color:#fff;font-weight:bold;text-decoration:underline\">animepahe.org</a> and <a href=\"//animepahe.com\" style=\"color:#fff;font-weight:bold;text-decoration:underline\">animepahe.com</a>.</small>\\n</div>\\n</div>\\n<section class=\"main\">\\n<div class=\"page\">\\n<main class=\"text-center\">\\n<h1>Oops... 404 Not Found</h1>\\n<p class=\" no-result\">\\n</p>\\n<p class=\"text-center\">\\n<a href=\"/\" title=\"Back to Homepahe\">Back to Homepahe</a>\\n</p>\\n</main>\\n</div>\\n</section>\\n<footer class=\"text-center\">\\n</footer>\\n<div class=\"yukis\"><div class=\"yuki\"></div><div class=\"yuki\"></div><div class=\"yuki\"></div><div class=\"yuki\"></div><div class=\"yuki\"></div><div class=\"yuki\"></div><div class=\"yuki\"></div><div class=\"yuki\"></div><div class=\"yuki\"></div><div class=\"yuki\"></div><div class=\"yuki\"></div><div class=\"yuki\"></div><div class=\"yuki\"></div><div class=\"yuki\"></div><div class=\"yuki\"></div><div class=\"yuki\"></div><div class=\"yuki\"></div><div class=\"yuki\"></div><div class=\"yuki\"></div><div class=\"yuki\"></div><div class=\"yuki\"></div><div class=\"yuki\"></div><div class=\"yuki\"></div><div class=\"yuki\"></div><div class=\"yuki\"></div><div class=\"yuki\"></div><div class=\"yuki\"></div><div class=\"yuki\"></div><div class=\"yuki\"></div><div class=\"yuki\"></div><div class=\"yuki\"></div><div class=\"yuki\"></div><div class=\"yuki\"></div><div class=\"yuki\"></div><div class=\"yuki\"></div><div class=\"yuki\"></div><div class=\"yuki\"></div><div class=\"yuki\"></div><div class=\"yuki\"></div><div class=\"yuki\"></div><div class=\"yuki\"></div><div class=\"yuki\"></div><div class=\"yuki\"></div><div class=\"yuki\"></div><div class=\"yuki\"></div><div class=\"yuki\"></div><div class=\"yuki\"></div><div class=\"yuki\"></div><div class=\"yuki\"></div><div class=\"yuki\"></div><div class=\"yuki\"></div><div class=\"yuki\"></div><div class=\"yuki\"></div><div class=\"yuki\"></div><div class=\"yuki\"></div><div class=\"yuki\"></div><div class=\"yuki\"></div><div class=\"yuki\"></div><div class=\"yuki\"></div><div class=\"yuki\"></div><div class=\"yuki\"></div><div class=\"yuki\"></div><div class=\"yuki\"></div><div class=\"yuki\"></div><div class=\"yuki\"></div><div class=\"yuki\"></div><div class=\"yuki\"></div><div class=\"yuki\"></div><div class=\"yuki\"></div><div class=\"yuki\"></div><div class=\"yuki\"></div><div class=\"yuki\"></div><div class=\"yuki\"></div><div class=\"yuki\"></div><div class=\"yuki\"></div><div class=\"yuki\"></div><div class=\"yuki\"></div><div class=\"yuki\"></div><div class=\"yuki\"></div><div class=\"yuki\"></div><div class=\"yuki\"></div><div class=\"yuki\"></div><div class=\"yuki\"></div><div class=\"yuki\"></div><div class=\"yuki\"></div><div class=\"yuki\"></div><div class=\"yuki\"></div><div class=\"yuki\"></div><div class=\"yuki\"></div><div class=\"yuki\"></div><div class=\"yuki\"></div><div class=\"yuki\"></div><div class=\"yuki\"></div><div class=\"yuki\"></div><div class=\"yuki\"></div><div class=\"yuki\"></div><div class=\"yuki\"></div><div class=\"yuki\"></div><div class=\"yuki\"></div><div class=\"yuki\"></div></div>\\n<script src=\"/app/js/vendor/bootstrap.bundle.min.js\"></script>\\n<script src=\"/app/js/core.js\"></script>\\n<script>(function(){var js = \"window[\\'__CF$cv$params\\']={r:\\'844d36d22b5878fc\\',t:\\'MTcwNTE0NDQ1MS4wMjkwMDA=\\'};_cpo=document.createElement(\\'script\\');_cpo.nonce=\\'\\',_cpo.src=\\'/cdn-cgi/challenge-platform/scripts/jsd/main.js\\',document.getElementsByTagName(\\'head\\')[0].appendChild(_cpo);\";var _0xh = document.createElement(\\'iframe\\');_0xh.height = 1;_0xh.width = 1;_0xh.style.position = \\'absolute\\';_0xh.style.top = 0;_0xh.style.left = 0;_0xh.style.border = \\'none\\';_0xh.style.visibility = \\'hidden\\';document.body.appendChild(_0xh);function handler() {var _0xi = _0xh.contentDocument || _0xh.contentWindow.document;if (_0xi) {var _0xj = _0xi.createElement(\\'script\\');_0xj.innerHTML = js;_0xi.getElementsByTagName(\\'head\\')[0].appendChild(_0xj);}}if (document.readyState !== \\'loading\\') {handler();} else if (window.addEventListener) {document.addEventListener(\\'DOMContentLoaded\\', handler);} else {var prev = document.onreadystatechange || function () {};document.onreadystatechange = function (e) {prev(e);if (document.readyState !== \\'loading\\') {document.onreadystatechange = prev;handler();}};}})();</script><script defer src=\"https://static.cloudflareinsights.com/beacon.min.js/v84a3a4012de94ce1a686ba8c167c359c1696973893317\" integrity=\"sha512-euoFGowhlaLqXsPWQ48qSkBSCFs3DPRyiwVu3FjR96cMPx+Fr+gpWRhIafcHwqwCqWS42RZhIudOvEI+Ckf6MA==\" data-cf-beacon=\\'{\"rayId\":\"844d36d22b5878fc\",\"version\":\"2023.10.0\",\"r\":1,\"token\":\"d1ad5cc3135545d2bbf467676530cd94\",\"b\":1}\\' crossorigin=\"anonymous\"></script>\\n</body>\\n</html>\\n'"
      ]
     },
     "execution_count": 8,
     "metadata": {},
     "output_type": "execute_result"
    }
   ],
   "source": [
    "\n",
    "requests.get(\n",
    "    \"https://animepahe.ru/play/1f0c2e22-a432-cda9-7ac8-e6cbc7852a93/a1f3c490883a2f81cd39f1c915b8f0487d1827687d15531263ac3f600f331a77\",\n",
    "    headers={\n",
    "        'User-Agent': 'Mozilla/5.0 (Macintosh; Intel Mac OS X 10_15_7) AppleWebKit/605.1.15 (KHTML, like Gecko) Version/17.1 Safari/605.1.15'\n",
    "    }\n",
    ").text"
   ]
  },
  {
   "cell_type": "code",
   "execution_count": 9,
   "id": "b359fcc6-a8b0-463a-81f0-afdff72b57ed",
   "metadata": {},
   "outputs": [],
   "source": [
    "driver.get(link)"
   ]
  },
  {
   "cell_type": "code",
   "execution_count": 11,
   "id": "7ea9b395-9896-49ff-a740-405598e0c0a3",
   "metadata": {},
   "outputs": [
    {
     "data": {
      "text/plain": [
       "[{'name': '360p\\t\\t54MB\\t\\tSubbed', 'link': 'https://pahe.win/TXsgr'},\n",
       " {'name': '720p\\t\\t99MB\\t\\tSubbed', 'link': 'https://pahe.win/bgPcw'},\n",
       " {'name': '1080p\\t\\t166MB\\t\\tSubbed', 'link': 'https://pahe.win/eHbzA'},\n",
       " {'name': '360p\\t\\t50MB\\t\\tDubbed', 'link': 'https://pahe.win/zTgfq'},\n",
       " {'name': '720p\\t\\t93MB\\t\\tDubbed', 'link': 'https://pahe.win/YFyCf'},\n",
       " {'name': '1080p\\t\\t158MB\\t\\tDubbed', 'link': 'https://pahe.win/mYCIM'}]"
      ]
     },
     "execution_count": 11,
     "metadata": {},
     "output_type": "execute_result"
    }
   ],
   "source": [
    "# Get quality lists\n",
    "qualities = []\n",
    "\n",
    "for a in driver.find_elements(By.CSS_SELECTOR, \"#pickDownload .dropdown-item\"):\n",
    "    quality_text = a.get_attribute(\"innerText\").split(\" \")\n",
    "    sub_dub = 'Dubbed' if quality_text[-1] == 'eng' else 'Subbed'\n",
    "    quality = quality_text[2]\n",
    "    size = quality_text[3][1:-1]\n",
    "    quality = {\n",
    "        \"name\": f\"{quality}\\t\\t{size}\\t\\t{sub_dub}\", #a.get_attribute(\"innerHTML\").split(\" \")[2],\n",
    "        \"link\": a.get_attribute(\"href\")\n",
    "    }\n",
    "    qualities.append(quality)\n",
    "\n",
    "qualities"
   ]
  },
  {
   "cell_type": "code",
   "execution_count": 13,
   "id": "d4a408aa-63d8-498a-829d-c75ee40662cd",
   "metadata": {},
   "outputs": [
    {
     "data": {
      "text/plain": [
       "'https://pahe.win/zljrN'"
      ]
     },
     "execution_count": 13,
     "metadata": {},
     "output_type": "execute_result"
    }
   ],
   "source": [
    "qualities[0]['link']"
   ]
  },
  {
   "cell_type": "code",
   "execution_count": 14,
   "id": "6d145efb-0440-4181-b7fa-edd3644f7763",
   "metadata": {},
   "outputs": [],
   "source": [
    "driver.get(qualities[0]['link'])"
   ]
  },
  {
   "cell_type": "code",
   "execution_count": 15,
   "id": "824c2558-7fdc-474a-99d5-6ab86a1fb8ce",
   "metadata": {},
   "outputs": [
    {
     "name": "stdout",
     "output_type": "stream",
     "text": [
      "Couldn't find button, waiting 7s\n"
     ]
    },
    {
     "data": {
      "text/plain": [
       "'https://kwik.cx/f/Og4bTrEAaWNX'"
      ]
     },
     "execution_count": 15,
     "metadata": {},
     "output_type": "execute_result"
    }
   ],
   "source": [
    "# Get the continue button\n",
    "link_to_download = \"\"\n",
    "\n",
    "while True:\n",
    "    try:\n",
    "        a = driver.find_element(By.XPATH, \"//a[text()='Continue']\")\n",
    "        link_to_download = a.get_attribute(\"href\")\n",
    "        break\n",
    "    except:\n",
    "        print(\"Couldn't find button, waiting 7s\")\n",
    "        time.sleep(7)\n",
    " \n",
    "link_to_download"
   ]
  },
  {
   "cell_type": "code",
   "execution_count": 16,
   "id": "1ff9e86f-a39a-42e5-80dc-96c5deb5bc7b",
   "metadata": {},
   "outputs": [],
   "source": [
    "driver.get(link_to_download)"
   ]
  },
  {
   "cell_type": "code",
   "execution_count": 17,
   "id": "125dd523-df8b-46b2-9faa-ef62d7e94c6d",
   "metadata": {},
   "outputs": [
    {
     "ename": "NoSuchWindowException",
     "evalue": "Message: no such window: target window already closed\nfrom unknown error: web view not found\n  (Session info: chrome=120.0.6099.129)\nStacktrace:\n0   chromedriver                        0x0000000102f184dc chromedriver + 4162780\n1   chromedriver                        0x0000000102f10664 chromedriver + 4130404\n2   chromedriver                        0x0000000102b67bc0 chromedriver + 293824\n3   chromedriver                        0x0000000102b406c0 chromedriver + 132800\n4   chromedriver                        0x0000000102bd925c chromedriver + 758364\n5   chromedriver                        0x0000000102bed294 chromedriver + 840340\n6   chromedriver                        0x0000000102ba16bc chromedriver + 530108\n7   chromedriver                        0x0000000102ba2930 chromedriver + 534832\n8   chromedriver                        0x0000000102edde08 chromedriver + 3923464\n9   chromedriver                        0x0000000102ee23dc chromedriver + 3941340\n10  chromedriver                        0x0000000102ec6038 chromedriver + 3825720\n11  chromedriver                        0x0000000102ee2f3c chromedriver + 3944252\n12  chromedriver                        0x0000000102eb86f4 chromedriver + 3770100\n13  chromedriver                        0x0000000102eff980 chromedriver + 4061568\n14  chromedriver                        0x0000000102effaf8 chromedriver + 4061944\n15  chromedriver                        0x0000000102f102e4 chromedriver + 4129508\n16  libsystem_pthread.dylib             0x0000000182245034 _pthread_start + 136\n17  libsystem_pthread.dylib             0x000000018223fe3c thread_start + 8\n",
     "output_type": "error",
     "traceback": [
      "\u001b[0;31m---------------------------------------------------------------------------\u001b[0m",
      "\u001b[0;31mNoSuchWindowException\u001b[0m                     Traceback (most recent call last)",
      "Cell \u001b[0;32mIn[17], line 2\u001b[0m\n\u001b[1;32m      1\u001b[0m \u001b[38;5;66;03m# Find button and click it\u001b[39;00m\n\u001b[0;32m----> 2\u001b[0m link \u001b[38;5;241m=\u001b[39m \u001b[43mdriver\u001b[49m\u001b[38;5;241;43m.\u001b[39;49m\u001b[43mfind_element\u001b[49m\u001b[43m(\u001b[49m\u001b[43mBy\u001b[49m\u001b[38;5;241;43m.\u001b[39;49m\u001b[43mCSS_SELECTOR\u001b[49m\u001b[43m,\u001b[49m\u001b[43m \u001b[49m\u001b[38;5;124;43m\"\u001b[39;49m\u001b[38;5;124;43m.main .download form\u001b[39;49m\u001b[38;5;124;43m\"\u001b[39;49m\u001b[43m)\u001b[49m\u001b[38;5;241m.\u001b[39mget_attribute(\u001b[38;5;124m\"\u001b[39m\u001b[38;5;124maction\u001b[39m\u001b[38;5;124m\"\u001b[39m)\n\u001b[1;32m      3\u001b[0m token \u001b[38;5;241m=\u001b[39m driver\u001b[38;5;241m.\u001b[39mfind_element(By\u001b[38;5;241m.\u001b[39mCSS_SELECTOR, \u001b[38;5;124m\"\u001b[39m\u001b[38;5;124m.main .download form input\u001b[39m\u001b[38;5;124m\"\u001b[39m)\u001b[38;5;241m.\u001b[39mget_attribute(\u001b[38;5;124m\"\u001b[39m\u001b[38;5;124mvalue\u001b[39m\u001b[38;5;124m\"\u001b[39m)\n\u001b[1;32m      4\u001b[0m \u001b[38;5;28mprint\u001b[39m(\u001b[38;5;124m\"\u001b[39m\u001b[38;5;124mLink:\u001b[39m\u001b[38;5;124m\"\u001b[39m, link)\n",
      "File \u001b[0;32m~/miniforge3/envs/mlp/lib/python3.8/site-packages/selenium/webdriver/remote/webdriver.py:742\u001b[0m, in \u001b[0;36mWebDriver.find_element\u001b[0;34m(self, by, value)\u001b[0m\n\u001b[1;32m    739\u001b[0m     by \u001b[38;5;241m=\u001b[39m By\u001b[38;5;241m.\u001b[39mCSS_SELECTOR\n\u001b[1;32m    740\u001b[0m     value \u001b[38;5;241m=\u001b[39m \u001b[38;5;124mf\u001b[39m\u001b[38;5;124m'\u001b[39m\u001b[38;5;124m[name=\u001b[39m\u001b[38;5;124m\"\u001b[39m\u001b[38;5;132;01m{\u001b[39;00mvalue\u001b[38;5;132;01m}\u001b[39;00m\u001b[38;5;124m\"\u001b[39m\u001b[38;5;124m]\u001b[39m\u001b[38;5;124m'\u001b[39m\n\u001b[0;32m--> 742\u001b[0m \u001b[38;5;28;01mreturn\u001b[39;00m \u001b[38;5;28;43mself\u001b[39;49m\u001b[38;5;241;43m.\u001b[39;49m\u001b[43mexecute\u001b[49m\u001b[43m(\u001b[49m\u001b[43mCommand\u001b[49m\u001b[38;5;241;43m.\u001b[39;49m\u001b[43mFIND_ELEMENT\u001b[49m\u001b[43m,\u001b[49m\u001b[43m \u001b[49m\u001b[43m{\u001b[49m\u001b[38;5;124;43m\"\u001b[39;49m\u001b[38;5;124;43musing\u001b[39;49m\u001b[38;5;124;43m\"\u001b[39;49m\u001b[43m:\u001b[49m\u001b[43m \u001b[49m\u001b[43mby\u001b[49m\u001b[43m,\u001b[49m\u001b[43m \u001b[49m\u001b[38;5;124;43m\"\u001b[39;49m\u001b[38;5;124;43mvalue\u001b[39;49m\u001b[38;5;124;43m\"\u001b[39;49m\u001b[43m:\u001b[49m\u001b[43m \u001b[49m\u001b[43mvalue\u001b[49m\u001b[43m}\u001b[49m\u001b[43m)\u001b[49m[\u001b[38;5;124m\"\u001b[39m\u001b[38;5;124mvalue\u001b[39m\u001b[38;5;124m\"\u001b[39m]\n",
      "File \u001b[0;32m~/miniforge3/envs/mlp/lib/python3.8/site-packages/selenium/webdriver/remote/webdriver.py:348\u001b[0m, in \u001b[0;36mWebDriver.execute\u001b[0;34m(self, driver_command, params)\u001b[0m\n\u001b[1;32m    346\u001b[0m response \u001b[38;5;241m=\u001b[39m \u001b[38;5;28mself\u001b[39m\u001b[38;5;241m.\u001b[39mcommand_executor\u001b[38;5;241m.\u001b[39mexecute(driver_command, params)\n\u001b[1;32m    347\u001b[0m \u001b[38;5;28;01mif\u001b[39;00m response:\n\u001b[0;32m--> 348\u001b[0m     \u001b[38;5;28;43mself\u001b[39;49m\u001b[38;5;241;43m.\u001b[39;49m\u001b[43merror_handler\u001b[49m\u001b[38;5;241;43m.\u001b[39;49m\u001b[43mcheck_response\u001b[49m\u001b[43m(\u001b[49m\u001b[43mresponse\u001b[49m\u001b[43m)\u001b[49m\n\u001b[1;32m    349\u001b[0m     response[\u001b[38;5;124m\"\u001b[39m\u001b[38;5;124mvalue\u001b[39m\u001b[38;5;124m\"\u001b[39m] \u001b[38;5;241m=\u001b[39m \u001b[38;5;28mself\u001b[39m\u001b[38;5;241m.\u001b[39m_unwrap_value(response\u001b[38;5;241m.\u001b[39mget(\u001b[38;5;124m\"\u001b[39m\u001b[38;5;124mvalue\u001b[39m\u001b[38;5;124m\"\u001b[39m, \u001b[38;5;28;01mNone\u001b[39;00m))\n\u001b[1;32m    350\u001b[0m     \u001b[38;5;28;01mreturn\u001b[39;00m response\n",
      "File \u001b[0;32m~/miniforge3/envs/mlp/lib/python3.8/site-packages/selenium/webdriver/remote/errorhandler.py:229\u001b[0m, in \u001b[0;36mErrorHandler.check_response\u001b[0;34m(self, response)\u001b[0m\n\u001b[1;32m    227\u001b[0m         alert_text \u001b[38;5;241m=\u001b[39m value[\u001b[38;5;124m\"\u001b[39m\u001b[38;5;124malert\u001b[39m\u001b[38;5;124m\"\u001b[39m]\u001b[38;5;241m.\u001b[39mget(\u001b[38;5;124m\"\u001b[39m\u001b[38;5;124mtext\u001b[39m\u001b[38;5;124m\"\u001b[39m)\n\u001b[1;32m    228\u001b[0m     \u001b[38;5;28;01mraise\u001b[39;00m exception_class(message, screen, stacktrace, alert_text)  \u001b[38;5;66;03m# type: ignore[call-arg]  # mypy is not smart enough here\u001b[39;00m\n\u001b[0;32m--> 229\u001b[0m \u001b[38;5;28;01mraise\u001b[39;00m exception_class(message, screen, stacktrace)\n",
      "\u001b[0;31mNoSuchWindowException\u001b[0m: Message: no such window: target window already closed\nfrom unknown error: web view not found\n  (Session info: chrome=120.0.6099.129)\nStacktrace:\n0   chromedriver                        0x0000000102f184dc chromedriver + 4162780\n1   chromedriver                        0x0000000102f10664 chromedriver + 4130404\n2   chromedriver                        0x0000000102b67bc0 chromedriver + 293824\n3   chromedriver                        0x0000000102b406c0 chromedriver + 132800\n4   chromedriver                        0x0000000102bd925c chromedriver + 758364\n5   chromedriver                        0x0000000102bed294 chromedriver + 840340\n6   chromedriver                        0x0000000102ba16bc chromedriver + 530108\n7   chromedriver                        0x0000000102ba2930 chromedriver + 534832\n8   chromedriver                        0x0000000102edde08 chromedriver + 3923464\n9   chromedriver                        0x0000000102ee23dc chromedriver + 3941340\n10  chromedriver                        0x0000000102ec6038 chromedriver + 3825720\n11  chromedriver                        0x0000000102ee2f3c chromedriver + 3944252\n12  chromedriver                        0x0000000102eb86f4 chromedriver + 3770100\n13  chromedriver                        0x0000000102eff980 chromedriver + 4061568\n14  chromedriver                        0x0000000102effaf8 chromedriver + 4061944\n15  chromedriver                        0x0000000102f102e4 chromedriver + 4129508\n16  libsystem_pthread.dylib             0x0000000182245034 _pthread_start + 136\n17  libsystem_pthread.dylib             0x000000018223fe3c thread_start + 8\n"
     ]
    }
   ],
   "source": [
    "# Find button and click it\n",
    "link = driver.find_element(By.CSS_SELECTOR, \".main .download form\").get_attribute(\"action\")\n",
    "token = driver.find_element(By.CSS_SELECTOR, \".main .download form input\").get_attribute(\"value\")\n",
    "print(\"Link:\", link)\n",
    "print(\"Token:\", token)\n"
   ]
  },
  {
   "cell_type": "code",
   "execution_count": null,
   "id": "44005825-38e8-4a75-9326-38042d50d977",
   "metadata": {},
   "outputs": [],
   "source": [
    "# cookies = {}\n",
    "# for cookie in driver.get_cookies():\n",
    "#     cookies[cookie['name']] = cookie['value']\n",
    "# cookies\n",
    "\n",
    "cookies = '; '.join([\n",
    "    f\"{cookie['name']}={cookie['value']}\"\n",
    "    for cookie in driver.get_cookies()\n",
    "])\n",
    "cookies"
   ]
  },
  {
   "cell_type": "code",
   "execution_count": null,
   "id": "b08f1fea-c241-4045-90a6-04742bf2b310",
   "metadata": {},
   "outputs": [],
   "source": [
    "data = {\n",
    "    \"_token\": token\n",
    "}\n",
    "headers = {\n",
    "  'User-Agent': 'Mozilla/5.0 (Macintosh; Intel Mac OS X 10.15; rv:121.0) Gecko/20100101 Firefox/121.0',\n",
    "  'Referer': 'https://kwik.cx/f/r6gCLSqIe9Nh',\n",
    "  'Origin': 'https://kwik.cx',\n",
    "  'Host': 'kwik.cx',\n",
    "  'Cookie': cookies\n",
    "}"
   ]
  },
  {
   "cell_type": "code",
   "execution_count": null,
   "id": "1fa207f5-0f2e-4d48-8d9d-973346d25390",
   "metadata": {},
   "outputs": [],
   "source": [
    "\n",
    "data = {\n",
    "    \"_token\": token\n",
    "}\n",
    "response = requests.post(link, data=data, headers=headers, stream=True)\n",
    "file_name = response.headers.get('Content-Disposition').split('=')[1]\n",
    "print(file_name)\n",
    "\n",
    "response.raise_for_status()\n",
    "\n",
    "total_size = int(response.headers.get('content-length', 0))\n",
    "block_size = 1024  # 1 Kibibyte\n",
    "\n",
    "progress_bar = tqdm(total=total_size, unit='iB', unit_scale=True)\n",
    "\n",
    "with open(file_name, 'wb') as file:\n",
    "    for data in response.iter_content(block_size):\n",
    "        progress_bar.update(len(data))\n",
    "        file.write(data)\n",
    "\n",
    "progress_bar.close()"
   ]
  },
  {
   "cell_type": "code",
   "execution_count": null,
   "id": "86409a06-6605-44b1-9d93-18d9f3f6ea53",
   "metadata": {},
   "outputs": [],
   "source": []
  }
 ],
 "metadata": {
  "kernelspec": {
   "display_name": "Python 3 (ipykernel)",
   "language": "python",
   "name": "python3"
  },
  "language_info": {
   "codemirror_mode": {
    "name": "ipython",
    "version": 3
   },
   "file_extension": ".py",
   "mimetype": "text/x-python",
   "name": "python",
   "nbconvert_exporter": "python",
   "pygments_lexer": "ipython3",
   "version": "3.8.16"
  }
 },
 "nbformat": 4,
 "nbformat_minor": 5
}
