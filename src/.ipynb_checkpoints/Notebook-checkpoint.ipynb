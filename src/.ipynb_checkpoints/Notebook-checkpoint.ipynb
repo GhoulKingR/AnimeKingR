{
 "cells": [
  {
   "cell_type": "code",
   "execution_count": 4,
   "id": "03f61225-3a41-47f1-a4d1-e58310a75327",
   "metadata": {},
   "outputs": [],
   "source": [
    "from selenium import webdriver\n",
    "from selenium.webdriver.common.by import By\n",
    "import time"
   ]
  },
  {
   "cell_type": "code",
   "execution_count": 7,
   "id": "15d17071-5c58-4184-a18f-e7a8c8987f6b",
   "metadata": {},
   "outputs": [],
   "source": [
    "driver = webdriver.Firefox()\n",
    "driver.get(\"https://animepahe.ru\")"
   ]
  },
  {
   "cell_type": "code",
   "execution_count": 8,
   "id": "e8f426f9-c5bc-4e62-958c-aa0032bde3a0",
   "metadata": {},
   "outputs": [],
   "source": [
    "input = driver.find_element(By.CLASS_NAME, \"input-search\")\n",
    "input.send_keys(\"Jujutsu kaisen\")"
   ]
  },
  {
   "cell_type": "code",
   "execution_count": null,
   "id": "d7ff4f46-808c-494e-8205-1b6f9a326d4e",
   "metadata": {},
   "outputs": [],
   "source": [
    "# Get search results\n",
    "search_result_wrap = driver.find_element(By.CLASS_NAME, \"search-results-wrap\")\n"
   ]
  }
 ],
 "metadata": {
  "kernelspec": {
   "display_name": "Python 3 (ipykernel)",
   "language": "python",
   "name": "python3"
  },
  "language_info": {
   "codemirror_mode": {
    "name": "ipython",
    "version": 3
   },
   "file_extension": ".py",
   "mimetype": "text/x-python",
   "name": "python",
   "nbconvert_exporter": "python",
   "pygments_lexer": "ipython3",
   "version": "3.8.16"
  }
 },
 "nbformat": 4,
 "nbformat_minor": 5
}
